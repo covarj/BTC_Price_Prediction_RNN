{
 "cells": [
  {
   "cell_type": "code",
   "execution_count": 9,
   "metadata": {},
   "outputs": [],
   "source": [
    "import numpy as np\n",
    "import pandas as pd\n",
    "import matplotlib.pyplot as plt\n",
    "%matplotlib inline\n"
   ]
  },
  {
   "cell_type": "code",
   "execution_count": 10,
   "metadata": {},
   "outputs": [
    {
     "data": {
      "text/html": [
       "<div>\n",
       "<style scoped>\n",
       "    .dataframe tbody tr th:only-of-type {\n",
       "        vertical-align: middle;\n",
       "    }\n",
       "\n",
       "    .dataframe tbody tr th {\n",
       "        vertical-align: top;\n",
       "    }\n",
       "\n",
       "    .dataframe thead th {\n",
       "        text-align: right;\n",
       "    }\n",
       "</style>\n",
       "<table border=\"1\" class=\"dataframe\">\n",
       "  <thead>\n",
       "    <tr style=\"text-align: right;\">\n",
       "      <th></th>\n",
       "      <th>Date</th>\n",
       "      <th>Open</th>\n",
       "      <th>High</th>\n",
       "      <th>Low</th>\n",
       "      <th>Close</th>\n",
       "      <th>Adj Close</th>\n",
       "      <th>Volume</th>\n",
       "    </tr>\n",
       "  </thead>\n",
       "  <tbody>\n",
       "    <tr>\n",
       "      <th>0</th>\n",
       "      <td>2014-03-06</td>\n",
       "      <td>658.299988</td>\n",
       "      <td>661.830017</td>\n",
       "      <td>636.219971</td>\n",
       "      <td>648.260010</td>\n",
       "      <td>648.260010</td>\n",
       "      <td>1367401</td>\n",
       "    </tr>\n",
       "    <tr>\n",
       "      <th>1</th>\n",
       "      <td>2014-03-07</td>\n",
       "      <td>648.260010</td>\n",
       "      <td>655.200012</td>\n",
       "      <td>600.309998</td>\n",
       "      <td>616.729980</td>\n",
       "      <td>616.729980</td>\n",
       "      <td>1498290</td>\n",
       "    </tr>\n",
       "    <tr>\n",
       "      <th>2</th>\n",
       "      <td>2014-03-08</td>\n",
       "      <td>616.729980</td>\n",
       "      <td>625.679993</td>\n",
       "      <td>588.580017</td>\n",
       "      <td>609.210022</td>\n",
       "      <td>609.210022</td>\n",
       "      <td>1335982</td>\n",
       "    </tr>\n",
       "    <tr>\n",
       "      <th>3</th>\n",
       "      <td>2014-03-09</td>\n",
       "      <td>609.210022</td>\n",
       "      <td>637.599976</td>\n",
       "      <td>598.510010</td>\n",
       "      <td>627.049988</td>\n",
       "      <td>627.049988</td>\n",
       "      <td>1209993</td>\n",
       "    </tr>\n",
       "    <tr>\n",
       "      <th>4</th>\n",
       "      <td>2014-03-10</td>\n",
       "      <td>627.049988</td>\n",
       "      <td>633.679993</td>\n",
       "      <td>594.700012</td>\n",
       "      <td>612.969971</td>\n",
       "      <td>612.969971</td>\n",
       "      <td>1648979</td>\n",
       "    </tr>\n",
       "  </tbody>\n",
       "</table>\n",
       "</div>"
      ],
      "text/plain": [
       "         Date        Open        High         Low       Close   Adj Close  \\\n",
       "0  2014-03-06  658.299988  661.830017  636.219971  648.260010  648.260010   \n",
       "1  2014-03-07  648.260010  655.200012  600.309998  616.729980  616.729980   \n",
       "2  2014-03-08  616.729980  625.679993  588.580017  609.210022  609.210022   \n",
       "3  2014-03-09  609.210022  637.599976  598.510010  627.049988  627.049988   \n",
       "4  2014-03-10  627.049988  633.679993  594.700012  612.969971  612.969971   \n",
       "\n",
       "    Volume  \n",
       "0  1367401  \n",
       "1  1498290  \n",
       "2  1335982  \n",
       "3  1209993  \n",
       "4  1648979  "
      ]
     },
     "execution_count": 10,
     "metadata": {},
     "output_type": "execute_result"
    }
   ],
   "source": [
    "btc_data = pd.read_csv(\"BTC-USD.csv\")\n",
    "btc_data.head()"
   ]
  },
  {
   "cell_type": "code",
   "execution_count": 11,
   "metadata": {},
   "outputs": [
    {
     "name": "stdout",
     "output_type": "stream",
     "text": [
      "<class 'pandas.core.frame.DataFrame'>\n",
      "RangeIndex: 1827 entries, 0 to 1826\n",
      "Data columns (total 7 columns):\n",
      "Date         1827 non-null object\n",
      "Open         1827 non-null float64\n",
      "High         1827 non-null float64\n",
      "Low          1827 non-null float64\n",
      "Close        1827 non-null float64\n",
      "Adj Close    1827 non-null float64\n",
      "Volume       1827 non-null int64\n",
      "dtypes: float64(5), int64(1), object(1)\n",
      "memory usage: 100.0+ KB\n"
     ]
    }
   ],
   "source": [
    "btc_data.info()"
   ]
  },
  {
   "cell_type": "code",
   "execution_count": 12,
   "metadata": {},
   "outputs": [
    {
     "data": {
      "text/html": [
       "<div>\n",
       "<style scoped>\n",
       "    .dataframe tbody tr th:only-of-type {\n",
       "        vertical-align: middle;\n",
       "    }\n",
       "\n",
       "    .dataframe tbody tr th {\n",
       "        vertical-align: top;\n",
       "    }\n",
       "\n",
       "    .dataframe thead th {\n",
       "        text-align: right;\n",
       "    }\n",
       "</style>\n",
       "<table border=\"1\" class=\"dataframe\">\n",
       "  <thead>\n",
       "    <tr style=\"text-align: right;\">\n",
       "      <th></th>\n",
       "      <th>Date</th>\n",
       "      <th>Open</th>\n",
       "      <th>High</th>\n",
       "      <th>Low</th>\n",
       "      <th>Close</th>\n",
       "      <th>Adj Close</th>\n",
       "      <th>Volume</th>\n",
       "      <th>Average</th>\n",
       "    </tr>\n",
       "  </thead>\n",
       "  <tbody>\n",
       "    <tr>\n",
       "      <th>0</th>\n",
       "      <td>2014-03-06</td>\n",
       "      <td>658.299988</td>\n",
       "      <td>661.830017</td>\n",
       "      <td>636.219971</td>\n",
       "      <td>648.260010</td>\n",
       "      <td>648.260010</td>\n",
       "      <td>1367401</td>\n",
       "      <td>649.024994</td>\n",
       "    </tr>\n",
       "    <tr>\n",
       "      <th>1</th>\n",
       "      <td>2014-03-07</td>\n",
       "      <td>648.260010</td>\n",
       "      <td>655.200012</td>\n",
       "      <td>600.309998</td>\n",
       "      <td>616.729980</td>\n",
       "      <td>616.729980</td>\n",
       "      <td>1498290</td>\n",
       "      <td>627.755005</td>\n",
       "    </tr>\n",
       "    <tr>\n",
       "      <th>2</th>\n",
       "      <td>2014-03-08</td>\n",
       "      <td>616.729980</td>\n",
       "      <td>625.679993</td>\n",
       "      <td>588.580017</td>\n",
       "      <td>609.210022</td>\n",
       "      <td>609.210022</td>\n",
       "      <td>1335982</td>\n",
       "      <td>607.130005</td>\n",
       "    </tr>\n",
       "    <tr>\n",
       "      <th>3</th>\n",
       "      <td>2014-03-09</td>\n",
       "      <td>609.210022</td>\n",
       "      <td>637.599976</td>\n",
       "      <td>598.510010</td>\n",
       "      <td>627.049988</td>\n",
       "      <td>627.049988</td>\n",
       "      <td>1209993</td>\n",
       "      <td>618.054993</td>\n",
       "    </tr>\n",
       "    <tr>\n",
       "      <th>4</th>\n",
       "      <td>2014-03-10</td>\n",
       "      <td>627.049988</td>\n",
       "      <td>633.679993</td>\n",
       "      <td>594.700012</td>\n",
       "      <td>612.969971</td>\n",
       "      <td>612.969971</td>\n",
       "      <td>1648979</td>\n",
       "      <td>614.190002</td>\n",
       "    </tr>\n",
       "  </tbody>\n",
       "</table>\n",
       "</div>"
      ],
      "text/plain": [
       "         Date        Open        High         Low       Close   Adj Close  \\\n",
       "0  2014-03-06  658.299988  661.830017  636.219971  648.260010  648.260010   \n",
       "1  2014-03-07  648.260010  655.200012  600.309998  616.729980  616.729980   \n",
       "2  2014-03-08  616.729980  625.679993  588.580017  609.210022  609.210022   \n",
       "3  2014-03-09  609.210022  637.599976  598.510010  627.049988  627.049988   \n",
       "4  2014-03-10  627.049988  633.679993  594.700012  612.969971  612.969971   \n",
       "\n",
       "    Volume     Average  \n",
       "0  1367401  649.024994  \n",
       "1  1498290  627.755005  \n",
       "2  1335982  607.130005  \n",
       "3  1209993  618.054993  \n",
       "4  1648979  614.190002  "
      ]
     },
     "execution_count": 12,
     "metadata": {},
     "output_type": "execute_result"
    }
   ],
   "source": [
    "btc_data[\"Average\"] = (btc_data[\"High\"] + btc_data[\"Low\"])/2\n",
    "btc_data.head()"
   ]
  },
  {
   "cell_type": "code",
   "execution_count": 13,
   "metadata": {},
   "outputs": [
    {
     "data": {
      "text/plain": [
       "Text(0, 0.5, 'BTC Average Price')"
      ]
     },
     "execution_count": 13,
     "metadata": {},
     "output_type": "execute_result"
    },
    {
     "data": {
      "image/png": "[encoded data removed]",
      "text/plain": [
       "<Figure size 1152x432 with 2 Axes>"
      ]
     },
     "metadata": {
      "needs_background": "light"
     },
     "output_type": "display_data"
    }
   ],
   "source": [
    "input_features = btc_data.iloc[:,[6,7]].values\n",
    "input_data = input_features\n",
    "\n",
    "fig, ax = plt.subplots(1,2,figsize=(16, 6))\n",
    "ax[0].plot(input_features[:,0])\n",
    "ax[0].set_title(\"Volume of BTC sold\")\n",
    "ax[0].set_xlabel(\"Time (latest-> oldest)\")\n",
    "ax[0].set_ylabel(\"Volume of BTC traded\")\n",
    "\n",
    "ax[1].plot(input_features[:,1])\n",
    "ax[1].set_title(\"BTC Price\")\n",
    "ax[1].set_xlabel(\"Time (latest-> oldest)\")\n",
    "ax[1].set_ylabel(\"BTC Average Price\")\n",
    "\n"
   ]
  },
  {
   "cell_type": "code",
   "execution_count": 14,
   "metadata": {},
   "outputs": [],
   "source": [
    "from sklearn.preprocessing import MinMaxScaler\n",
    "\n",
    "sc= MinMaxScaler(feature_range=(0,1))\n",
    "input_data[:,0:2] = sc.fit_transform(input_features[:,:])"
   ]
  },
  {
   "cell_type": "code",
   "execution_count": 15,
   "metadata": {},
   "outputs": [
    {
     "name": "stdout",
     "output_type": "stream",
     "text": [
      "(1412, 50, 2) (1412,)\n",
      "(365, 50, 2)\n"
     ]
    }
   ],
   "source": [
    "lookback= 50\n",
    "test_size=365\n",
    "X_tmp=[]\n",
    "y=[]\n",
    "\n",
    "for i in range(lookback, len(btc_data)):\n",
    "    X_tmp.append(input_data[i-lookback:i, :])\n",
    "    \n",
    "y = input_data[lookback:-test_size,1]\n",
    "\n",
    "X_tmp, y = np.array(X_tmp), np.array(y)\n",
    "X = X_tmp[:-test_size,:]\n",
    "X_test = X_tmp[-test_size:]\n",
    "\n",
    "X = X.reshape(X.shape[0],lookback, 2)\n",
    "X_test = X_test.reshape(X_test.shape[0],lookback, 2)\n",
    "print(X.shape, y.shape)\n",
    "print(X_test.shape)\n"
   ]
  },
  {
   "cell_type": "code",
   "execution_count": 16,
   "metadata": {},
   "outputs": [
    {
     "name": "stderr",
     "output_type": "stream",
     "text": [
      "Using TensorFlow backend.\n"
     ]
    }
   ],
   "source": [
    "from keras import Sequential\n",
    "from keras.layers import Dense, LSTM\n",
    "from keras.layers import Dropout"
   ]
  },
  {
   "cell_type": "code",
   "execution_count": 17,
   "metadata": {},
   "outputs": [
    {
     "name": "stdout",
     "output_type": "stream",
     "text": [
      "_________________________________________________________________\n",
      "Layer (type)                 Output Shape              Param #   \n",
      "=================================================================\n",
      "lstm_1 (LSTM)                (None, 50, 30)            3960      \n",
      "_________________________________________________________________\n",
      "lstm_2 (LSTM)                (None, 50, 30)            7320      \n",
      "_________________________________________________________________\n",
      "lstm_3 (LSTM)                (None, 30)                7320      \n",
      "_________________________________________________________________\n",
      "dense_1 (Dense)              (None, 1)                 31        \n",
      "=================================================================\n",
      "Total params: 18,631\n",
      "Trainable params: 18,631\n",
      "Non-trainable params: 0\n",
      "_________________________________________________________________\n"
     ]
    }
   ],
   "source": [
    "model = Sequential()\n",
    "model.add(LSTM(units=30, return_sequences= True, input_shape=(X.shape[1],2)))\n",
    "model.add(Dropout(0.2))\n",
    "\n",
    "model.add(LSTM(units=30, return_sequences=True))\n",
    "model.add(Dropout(0.2))\n",
    "\n",
    "model.add(LSTM(units=30))\n",
    "model.add(Dropout(0.2))\n",
    "\n",
    "model.add(Dense(units=1))\n",
    "model.add(Dropout(0.2))\n",
    "\n",
    "model.summary()"
   ]
  },
  {
   "cell_type": "code",
   "execution_count": 18,
   "metadata": {},
   "outputs": [],
   "source": [
    "model.compile(optimizer='adam', loss='mean_squared_error')"
   ]
  },
  {
   "cell_type": "code",
   "execution_count": 19,
   "metadata": {},
   "outputs": [
    {
     "name": "stdout",
     "output_type": "stream",
     "text": [
      "Epoch 1/100\n",
      "1412/1412 [==============================] - 5s 4ms/step - loss: 0.0061\n",
      "Epoch 2/100\n",
      "1412/1412 [==============================] - 3s 2ms/step - loss: 0.0015\n",
      "Epoch 3/100\n",
      "1412/1412 [==============================] - 3s 2ms/step - loss: 0.0012\n",
      "Epoch 4/100\n",
      "1412/1412 [==============================] - 3s 2ms/step - loss: 9.8840e-04\n",
      "Epoch 5/100\n",
      "1412/1412 [==============================] - 4s 2ms/step - loss: 0.0011\n",
      "Epoch 6/100\n",
      "1412/1412 [==============================] - 4s 3ms/step - loss: 8.4963e-04\n",
      "Epoch 7/100\n",
      "1412/1412 [==============================] - 4s 3ms/step - loss: 9.1640e-04\n",
      "Epoch 8/100\n",
      "1412/1412 [==============================] - 4s 3ms/step - loss: 9.2900e-04\n",
      "Epoch 9/100\n",
      "1412/1412 [==============================] - 4s 3ms/step - loss: 7.5552e-04\n",
      "Epoch 10/100\n",
      "1412/1412 [==============================] - 4s 3ms/step - loss: 6.5603e-04\n",
      "Epoch 11/100\n",
      "1412/1412 [==============================] - 4s 3ms/step - loss: 6.6769e-04\n",
      "Epoch 12/100\n",
      "1412/1412 [==============================] - 4s 3ms/step - loss: 6.5311e-04\n",
      "Epoch 13/100\n",
      "1412/1412 [==============================] - 4s 3ms/step - loss: 5.3821e-04\n",
      "Epoch 14/100\n",
      "1412/1412 [==============================] - 4s 3ms/step - loss: 4.5259e-04\n",
      "Epoch 15/100\n",
      "1412/1412 [==============================] - 4s 3ms/step - loss: 8.1807e-04\n",
      "Epoch 16/100\n",
      "1412/1412 [==============================] - 4s 3ms/step - loss: 4.2353e-04\n",
      "Epoch 17/100\n",
      "1412/1412 [==============================] - 4s 3ms/step - loss: 3.7273e-04\n",
      "Epoch 18/100\n",
      "1412/1412 [==============================] - 4s 3ms/step - loss: 4.9776e-04\n",
      "Epoch 19/100\n",
      "1412/1412 [==============================] - 4s 3ms/step - loss: 3.3016e-04\n",
      "Epoch 20/100\n",
      "1412/1412 [==============================] - 4s 3ms/step - loss: 3.6275e-04\n",
      "Epoch 21/100\n",
      "1412/1412 [==============================] - 4s 3ms/step - loss: 3.5014e-04\n",
      "Epoch 22/100\n",
      "1412/1412 [==============================] - 4s 3ms/step - loss: 3.0502e-04\n",
      "Epoch 23/100\n",
      "1412/1412 [==============================] - 4s 3ms/step - loss: 3.5575e-04\n",
      "Epoch 24/100\n",
      "1412/1412 [==============================] - 4s 3ms/step - loss: 7.2381e-04\n",
      "Epoch 25/100\n",
      "1412/1412 [==============================] - 4s 3ms/step - loss: 3.5704e-04\n",
      "Epoch 26/100\n",
      "1412/1412 [==============================] - 5s 3ms/step - loss: 4.2555e-04\n",
      "Epoch 27/100\n",
      "1412/1412 [==============================] - 4s 3ms/step - loss: 3.0460e-04\n",
      "Epoch 28/100\n",
      "1412/1412 [==============================] - 4s 3ms/step - loss: 3.3403e-04\n",
      "Epoch 29/100\n",
      "1412/1412 [==============================] - 4s 3ms/step - loss: 2.8199e-04\n",
      "Epoch 30/100\n",
      "1412/1412 [==============================] - 5s 3ms/step - loss: 2.9136e-04\n",
      "Epoch 31/100\n",
      "1412/1412 [==============================] - 4s 3ms/step - loss: 2.9464e-04\n",
      "Epoch 32/100\n",
      "1412/1412 [==============================] - 4s 3ms/step - loss: 3.5149e-04\n",
      "Epoch 33/100\n",
      "1412/1412 [==============================] - 4s 3ms/step - loss: 3.1558e-04\n",
      "Epoch 34/100\n",
      "1412/1412 [==============================] - 5s 3ms/step - loss: 2.8128e-04\n",
      "Epoch 35/100\n",
      "1412/1412 [==============================] - 4s 3ms/step - loss: 3.4800e-04\n",
      "Epoch 36/100\n",
      "1412/1412 [==============================] - 4s 3ms/step - loss: 2.8060e-04\n",
      "Epoch 37/100\n",
      "1412/1412 [==============================] - 5s 3ms/step - loss: 2.7067e-04\n",
      "Epoch 38/100\n",
      "1412/1412 [==============================] - 5s 3ms/step - loss: 3.4852e-04\n",
      "Epoch 39/100\n",
      "1412/1412 [==============================] - 4s 3ms/step - loss: 2.5426e-04\n",
      "Epoch 40/100\n",
      "1412/1412 [==============================] - 5s 3ms/step - loss: 2.4997e-04\n",
      "Epoch 41/100\n",
      "1412/1412 [==============================] - 5s 3ms/step - loss: 3.6048e-04\n",
      "Epoch 42/100\n",
      "1412/1412 [==============================] - 4s 3ms/step - loss: 2.5142e-04\n",
      "Epoch 43/100\n",
      "1412/1412 [==============================] - 5s 3ms/step - loss: 2.4710e-04\n",
      "Epoch 44/100\n",
      "1412/1412 [==============================] - 5s 3ms/step - loss: 2.5219e-04\n",
      "Epoch 45/100\n",
      "1412/1412 [==============================] - 5s 3ms/step - loss: 2.4876e-04\n",
      "Epoch 46/100\n",
      "1412/1412 [==============================] - 4s 3ms/step - loss: 2.4805e-04\n",
      "Epoch 47/100\n",
      "1412/1412 [==============================] - 5s 3ms/step - loss: 2.2257e-04\n",
      "Epoch 48/100\n",
      "1412/1412 [==============================] - 5s 3ms/step - loss: 2.4043e-04\n",
      "Epoch 49/100\n",
      "1412/1412 [==============================] - 4s 3ms/step - loss: 2.3143e-04\n",
      "Epoch 50/100\n",
      "1412/1412 [==============================] - 4s 3ms/step - loss: 2.5389e-04\n",
      "Epoch 51/100\n",
      "1412/1412 [==============================] - 5s 3ms/step - loss: 4.4344e-04\n",
      "Epoch 52/100\n",
      "1412/1412 [==============================] - 5s 3ms/step - loss: 3.5959e-04\n",
      "Epoch 53/100\n",
      "1412/1412 [==============================] - 5s 3ms/step - loss: 2.8835e-04\n",
      "Epoch 54/100\n",
      "1412/1412 [==============================] - 5s 3ms/step - loss: 2.6566e-04\n",
      "Epoch 55/100\n",
      "1412/1412 [==============================] - 5s 4ms/step - loss: 2.6795e-04\n",
      "Epoch 56/100\n",
      "1412/1412 [==============================] - 4s 3ms/step - loss: 2.2104e-04\n",
      "Epoch 57/100\n",
      "1412/1412 [==============================] - 5s 3ms/step - loss: 2.1197e-04\n",
      "Epoch 58/100\n",
      "1412/1412 [==============================] - 5s 4ms/step - loss: 2.2741e-04\n",
      "Epoch 59/100\n",
      "1412/1412 [==============================] - 5s 3ms/step - loss: 2.4145e-04\n",
      "Epoch 60/100\n",
      "1412/1412 [==============================] - 4s 3ms/step - loss: 2.7052e-04\n",
      "Epoch 61/100\n",
      "1412/1412 [==============================] - 5s 3ms/step - loss: 1.9897e-04\n",
      "Epoch 62/100\n",
      "1412/1412 [==============================] - 5s 3ms/step - loss: 2.5245e-04\n",
      "Epoch 63/100\n",
      "1412/1412 [==============================] - 4s 3ms/step - loss: 2.0691e-04\n",
      "Epoch 64/100\n",
      "1412/1412 [==============================] - 5s 3ms/step - loss: 2.2113e-04\n",
      "Epoch 65/100\n",
      "1412/1412 [==============================] - 5s 4ms/step - loss: 2.0114e-04\n",
      "Epoch 66/100\n",
      "1412/1412 [==============================] - 4s 3ms/step - loss: 1.9593e-04\n",
      "Epoch 67/100\n",
      "1412/1412 [==============================] - 4s 3ms/step - loss: 3.2759e-04\n",
      "Epoch 68/100\n",
      "1412/1412 [==============================] - 5s 4ms/step - loss: 2.3325e-04\n",
      "Epoch 69/100\n",
      "1412/1412 [==============================] - 5s 3ms/step - loss: 1.9826e-04\n",
      "Epoch 70/100\n",
      "1412/1412 [==============================] - 4s 3ms/step - loss: 2.2223e-04\n",
      "Epoch 71/100\n",
      "1412/1412 [==============================] - 5s 3ms/step - loss: 1.9888e-04\n",
      "Epoch 72/100\n",
      "1412/1412 [==============================] - 5s 3ms/step - loss: 2.1453e-04\n",
      "Epoch 73/100\n",
      "1412/1412 [==============================] - 4s 3ms/step - loss: 1.9506e-04\n",
      "Epoch 74/100\n",
      "1412/1412 [==============================] - 4s 3ms/step - loss: 1.7739e-04\n",
      "Epoch 75/100\n",
      "1412/1412 [==============================] - 5s 4ms/step - loss: 1.7216e-04\n",
      "Epoch 76/100\n",
      "1412/1412 [==============================] - 5s 3ms/step - loss: 2.3421e-04\n",
      "Epoch 77/100\n",
      "1412/1412 [==============================] - 4s 3ms/step - loss: 1.9876e-04\n",
      "Epoch 78/100\n",
      "1412/1412 [==============================] - 5s 3ms/step - loss: 1.5993e-04\n",
      "Epoch 79/100\n",
      "1412/1412 [==============================] - 5s 4ms/step - loss: 1.9253e-04\n",
      "Epoch 80/100\n",
      "1412/1412 [==============================] - 4s 3ms/step - loss: 2.2167e-04\n",
      "Epoch 81/100\n",
      "1412/1412 [==============================] - 5s 3ms/step - loss: 2.3030e-04\n",
      "Epoch 82/100\n",
      "1412/1412 [==============================] - 5s 4ms/step - loss: 1.6916e-04\n",
      "Epoch 83/100\n",
      "1412/1412 [==============================] - 5s 3ms/step - loss: 1.5065e-04\n",
      "Epoch 84/100\n",
      "1412/1412 [==============================] - 4s 3ms/step - loss: 3.4225e-04\n",
      "Epoch 85/100\n",
      "1412/1412 [==============================] - 5s 4ms/step - loss: 1.5221e-04\n",
      "Epoch 86/100\n",
      "1412/1412 [==============================] - 5s 3ms/step - loss: 1.5316e-04\n",
      "Epoch 87/100\n",
      "1412/1412 [==============================] - 4s 3ms/step - loss: 1.8349e-04\n",
      "Epoch 88/100\n",
      "1412/1412 [==============================] - 5s 3ms/step - loss: 1.4965e-04\n",
      "Epoch 89/100\n",
      "1412/1412 [==============================] - 5s 4ms/step - loss: 1.9431e-04\n",
      "Epoch 90/100\n",
      "1412/1412 [==============================] - 4s 3ms/step - loss: 1.4957e-04\n",
      "Epoch 91/100\n",
      "1412/1412 [==============================] - 4s 3ms/step - loss: 1.3733e-04\n",
      "Epoch 92/100\n",
      "1412/1412 [==============================] - 5s 4ms/step - loss: 1.7840e-04\n",
      "Epoch 93/100\n",
      "1412/1412 [==============================] - 5s 3ms/step - loss: 1.3229e-04\n",
      "Epoch 94/100\n",
      "1412/1412 [==============================] - 4s 3ms/step - loss: 1.4063e-04\n",
      "Epoch 95/100\n",
      "1412/1412 [==============================] - 5s 4ms/step - loss: 1.3133e-04\n",
      "Epoch 96/100\n",
      "1412/1412 [==============================] - 5s 4ms/step - loss: 1.4810e-04\n",
      "Epoch 97/100\n",
      "1412/1412 [==============================] - 4s 3ms/step - loss: 1.4652e-04\n",
      "Epoch 98/100\n",
      "1412/1412 [==============================] - 5s 3ms/step - loss: 1.7134e-04\n",
      "Epoch 99/100\n",
      "1412/1412 [==============================] - 5s 4ms/step - loss: 1.3796e-04\n",
      "Epoch 100/100\n",
      "1412/1412 [==============================] - 4s 3ms/step - loss: 1.7491e-04\n"
     ]
    },
    {
     "data": {
      "text/plain": [
       "<keras.callbacks.History at 0x1d82e92ada0>"
      ]
     },
     "execution_count": 19,
     "metadata": {},
     "output_type": "execute_result"
    }
   ],
   "source": [
    "model.fit(X, y, epochs=100, batch_size=32)"
   ]
  },
  {
   "cell_type": "code",
   "execution_count": 20,
   "metadata": {},
   "outputs": [],
   "source": [
    "predicted_value= model.predict(X_test)"
   ]
  },
  {
   "cell_type": "code",
   "execution_count": 26,
   "metadata": {},
   "outputs": [
    {
     "name": "stdout",
     "output_type": "stream",
     "text": [
      "1.9810398518337626\n"
     ]
    },
    {
     "data": {
      "image/png": "[encoded data removed]",
      "text/plain": [
       "<Figure size 576x432 with 1 Axes>"
      ]
     },
     "metadata": {
      "needs_background": "light"
     },
     "output_type": "display_data"
    }
   ],
   "source": [
    "fig, ax = plt.subplots(figsize=(8, 6))\n",
    "\n",
    "true_value = input_data[-test_size:,1]\n",
    "\n",
    "plt.plot(predicted_value, color= 'red')\n",
    "plt.plot(true_value, color='green')\n",
    "plt.title(\"Opening price of BTC sold\")\n",
    "plt.xlabel(\"Time (latest-> oldest)\")\n",
    "plt.ylabel(\"BTC Opening Price\")\n",
    "\n",
    "rms_error = np.mean(np.square(predicted_value - true_value))\n",
    "print(rms_error*100)\n"
   ]
  },
  {
   "cell_type": "code",
   "execution_count": null,
   "metadata": {},
   "outputs": [],
   "source": []
  }
 ],
 "metadata": {
  "kernelspec": {
   "display_name": "Python 3",
   "language": "python",
   "name": "python3"
  },
  "language_info": {
   "codemirror_mode": {
    "name": "ipython",
    "version": 3
   },
   "file_extension": ".py",
   "mimetype": "text/x-python",
   "name": "python",
   "nbconvert_exporter": "python",
   "pygments_lexer": "ipython3",
   "version": "3.6.7"
  }
 },
 "nbformat": 4,
 "nbformat_minor": 2
}
