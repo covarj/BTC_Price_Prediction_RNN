{
 "cells": [
  {
   "cell_type": "code",
   "execution_count": 1,
   "metadata": {},
   "outputs": [],
   "source": [
    "import numpy as np\n",
    "import pandas as pd\n",
    "import matplotlib.pyplot as plt\n",
    "import time\n",
    "\n",
    "%matplotlib inline\n",
    "start = time. time()"
   ]
  },
  {
   "cell_type": "code",
   "execution_count": 61,
   "metadata": {},
   "outputs": [
    {
     "data": {
      "text/html": [
       "<div>\n",
       "<style scoped>\n",
       "    .dataframe tbody tr th:only-of-type {\n",
       "        vertical-align: middle;\n",
       "    }\n",
       "\n",
       "    .dataframe tbody tr th {\n",
       "        vertical-align: top;\n",
       "    }\n",
       "\n",
       "    .dataframe thead th {\n",
       "        text-align: right;\n",
       "    }\n",
       "</style>\n",
       "<table border=\"1\" class=\"dataframe\">\n",
       "  <thead>\n",
       "    <tr style=\"text-align: right;\">\n",
       "      <th></th>\n",
       "      <th>Open</th>\n",
       "      <th>High</th>\n",
       "      <th>Low</th>\n",
       "      <th>Close</th>\n",
       "      <th>Adj Close</th>\n",
       "      <th>Volume</th>\n",
       "    </tr>\n",
       "    <tr>\n",
       "      <th>Date</th>\n",
       "      <th></th>\n",
       "      <th></th>\n",
       "      <th></th>\n",
       "      <th></th>\n",
       "      <th></th>\n",
       "      <th></th>\n",
       "    </tr>\n",
       "  </thead>\n",
       "  <tbody>\n",
       "    <tr>\n",
       "      <th>2014-03-06</th>\n",
       "      <td>658.299988</td>\n",
       "      <td>661.830017</td>\n",
       "      <td>636.219971</td>\n",
       "      <td>648.260010</td>\n",
       "      <td>648.260010</td>\n",
       "      <td>1367401</td>\n",
       "    </tr>\n",
       "    <tr>\n",
       "      <th>2014-03-07</th>\n",
       "      <td>648.260010</td>\n",
       "      <td>655.200012</td>\n",
       "      <td>600.309998</td>\n",
       "      <td>616.729980</td>\n",
       "      <td>616.729980</td>\n",
       "      <td>1498290</td>\n",
       "    </tr>\n",
       "    <tr>\n",
       "      <th>2014-03-08</th>\n",
       "      <td>616.729980</td>\n",
       "      <td>625.679993</td>\n",
       "      <td>588.580017</td>\n",
       "      <td>609.210022</td>\n",
       "      <td>609.210022</td>\n",
       "      <td>1335982</td>\n",
       "    </tr>\n",
       "    <tr>\n",
       "      <th>2014-03-09</th>\n",
       "      <td>609.210022</td>\n",
       "      <td>637.599976</td>\n",
       "      <td>598.510010</td>\n",
       "      <td>627.049988</td>\n",
       "      <td>627.049988</td>\n",
       "      <td>1209993</td>\n",
       "    </tr>\n",
       "    <tr>\n",
       "      <th>2014-03-10</th>\n",
       "      <td>627.049988</td>\n",
       "      <td>633.679993</td>\n",
       "      <td>594.700012</td>\n",
       "      <td>612.969971</td>\n",
       "      <td>612.969971</td>\n",
       "      <td>1648979</td>\n",
       "    </tr>\n",
       "  </tbody>\n",
       "</table>\n",
       "</div>"
      ],
      "text/plain": [
       "                  Open        High         Low       Close   Adj Close  \\\n",
       "Date                                                                     \n",
       "2014-03-06  658.299988  661.830017  636.219971  648.260010  648.260010   \n",
       "2014-03-07  648.260010  655.200012  600.309998  616.729980  616.729980   \n",
       "2014-03-08  616.729980  625.679993  588.580017  609.210022  609.210022   \n",
       "2014-03-09  609.210022  637.599976  598.510010  627.049988  627.049988   \n",
       "2014-03-10  627.049988  633.679993  594.700012  612.969971  612.969971   \n",
       "\n",
       "             Volume  \n",
       "Date                 \n",
       "2014-03-06  1367401  \n",
       "2014-03-07  1498290  \n",
       "2014-03-08  1335982  \n",
       "2014-03-09  1209993  \n",
       "2014-03-10  1648979  "
      ]
     },
     "execution_count": 61,
     "metadata": {},
     "output_type": "execute_result"
    }
   ],
   "source": [
    "btc_data = pd.read_csv(\"BTC-USD.csv\",index_col=\"Date\",parse_dates=True)\n",
    "btc_data.head()"
   ]
  },
  {
   "cell_type": "code",
   "execution_count": 62,
   "metadata": {},
   "outputs": [
    {
     "name": "stdout",
     "output_type": "stream",
     "text": [
      "<class 'pandas.core.frame.DataFrame'>\n",
      "DatetimeIndex: 1827 entries, 2014-03-06 to 2019-03-06\n",
      "Data columns (total 6 columns):\n",
      "Open         1827 non-null float64\n",
      "High         1827 non-null float64\n",
      "Low          1827 non-null float64\n",
      "Close        1827 non-null float64\n",
      "Adj Close    1827 non-null float64\n",
      "Volume       1827 non-null int64\n",
      "dtypes: float64(5), int64(1)\n",
      "memory usage: 99.9 KB\n"
     ]
    }
   ],
   "source": [
    "btc_data.info()"
   ]
  },
  {
   "cell_type": "code",
   "execution_count": 63,
   "metadata": {},
   "outputs": [
    {
     "data": {
      "text/html": [
       "<div>\n",
       "<style scoped>\n",
       "    .dataframe tbody tr th:only-of-type {\n",
       "        vertical-align: middle;\n",
       "    }\n",
       "\n",
       "    .dataframe tbody tr th {\n",
       "        vertical-align: top;\n",
       "    }\n",
       "\n",
       "    .dataframe thead th {\n",
       "        text-align: right;\n",
       "    }\n",
       "</style>\n",
       "<table border=\"1\" class=\"dataframe\">\n",
       "  <thead>\n",
       "    <tr style=\"text-align: right;\">\n",
       "      <th></th>\n",
       "      <th>Open</th>\n",
       "      <th>High</th>\n",
       "      <th>Low</th>\n",
       "      <th>Close</th>\n",
       "      <th>Adj Close</th>\n",
       "      <th>Volume</th>\n",
       "      <th>Average</th>\n",
       "    </tr>\n",
       "    <tr>\n",
       "      <th>Date</th>\n",
       "      <th></th>\n",
       "      <th></th>\n",
       "      <th></th>\n",
       "      <th></th>\n",
       "      <th></th>\n",
       "      <th></th>\n",
       "      <th></th>\n",
       "    </tr>\n",
       "  </thead>\n",
       "  <tbody>\n",
       "    <tr>\n",
       "      <th>2014-03-06</th>\n",
       "      <td>658.299988</td>\n",
       "      <td>661.830017</td>\n",
       "      <td>636.219971</td>\n",
       "      <td>648.260010</td>\n",
       "      <td>648.260010</td>\n",
       "      <td>1367401</td>\n",
       "      <td>649.024994</td>\n",
       "    </tr>\n",
       "    <tr>\n",
       "      <th>2014-03-07</th>\n",
       "      <td>648.260010</td>\n",
       "      <td>655.200012</td>\n",
       "      <td>600.309998</td>\n",
       "      <td>616.729980</td>\n",
       "      <td>616.729980</td>\n",
       "      <td>1498290</td>\n",
       "      <td>627.755005</td>\n",
       "    </tr>\n",
       "    <tr>\n",
       "      <th>2014-03-08</th>\n",
       "      <td>616.729980</td>\n",
       "      <td>625.679993</td>\n",
       "      <td>588.580017</td>\n",
       "      <td>609.210022</td>\n",
       "      <td>609.210022</td>\n",
       "      <td>1335982</td>\n",
       "      <td>607.130005</td>\n",
       "    </tr>\n",
       "    <tr>\n",
       "      <th>2014-03-09</th>\n",
       "      <td>609.210022</td>\n",
       "      <td>637.599976</td>\n",
       "      <td>598.510010</td>\n",
       "      <td>627.049988</td>\n",
       "      <td>627.049988</td>\n",
       "      <td>1209993</td>\n",
       "      <td>618.054993</td>\n",
       "    </tr>\n",
       "    <tr>\n",
       "      <th>2014-03-10</th>\n",
       "      <td>627.049988</td>\n",
       "      <td>633.679993</td>\n",
       "      <td>594.700012</td>\n",
       "      <td>612.969971</td>\n",
       "      <td>612.969971</td>\n",
       "      <td>1648979</td>\n",
       "      <td>614.190002</td>\n",
       "    </tr>\n",
       "  </tbody>\n",
       "</table>\n",
       "</div>"
      ],
      "text/plain": [
       "                  Open        High         Low       Close   Adj Close  \\\n",
       "Date                                                                     \n",
       "2014-03-06  658.299988  661.830017  636.219971  648.260010  648.260010   \n",
       "2014-03-07  648.260010  655.200012  600.309998  616.729980  616.729980   \n",
       "2014-03-08  616.729980  625.679993  588.580017  609.210022  609.210022   \n",
       "2014-03-09  609.210022  637.599976  598.510010  627.049988  627.049988   \n",
       "2014-03-10  627.049988  633.679993  594.700012  612.969971  612.969971   \n",
       "\n",
       "             Volume     Average  \n",
       "Date                             \n",
       "2014-03-06  1367401  649.024994  \n",
       "2014-03-07  1498290  627.755005  \n",
       "2014-03-08  1335982  607.130005  \n",
       "2014-03-09  1209993  618.054993  \n",
       "2014-03-10  1648979  614.190002  "
      ]
     },
     "execution_count": 63,
     "metadata": {},
     "output_type": "execute_result"
    }
   ],
   "source": [
    "btc_data[\"Average\"] = (btc_data[\"High\"] + btc_data[\"Low\"])/2\n",
    "btc_data.head()"
   ]
  },
  {
   "cell_type": "code",
   "execution_count": 152,
   "metadata": {},
   "outputs": [
    {
     "data": {
      "text/plain": [
       "Text(0, 0.5, 'Volume (BTC)')"
      ]
     },
     "execution_count": 152,
     "metadata": {},
     "output_type": "execute_result"
    },
    {
     "data": {
      "image/png": "[encoded data removed]",
      "text/plain": [
       "<Figure size 1008x432 with 2 Axes>"
      ]
     },
     "metadata": {
      "needs_background": "light"
     },
     "output_type": "display_data"
    }
   ],
   "source": [
    "input_features = btc_data.iloc[:,[5,6]].values\n",
    "\n",
    "plt.figure(figsize=(14,6))\n",
    "top = plt.subplot2grid((4,4), (0, 0), rowspan=3, colspan=4)\n",
    "bottom = plt.subplot2grid((4,4), (3,0), rowspan=1, colspan=4)\n",
    "top.plot(btc_data.index, input_features[:,1]) \n",
    "bottom.bar(btc_data.index, input_features[:,0]) \n",
    " \n",
    "# set the labels\n",
    "top.axes.get_xaxis().set_visible(False)\n",
    "top.set_title('BTC')\n",
    "top.set_ylabel('Average Price ($)')\n",
    "bottom.set_ylabel('Volume (BTC)')\n"
   ]
  },
  {
   "cell_type": "code",
   "execution_count": 58,
   "metadata": {},
   "outputs": [
    {
     "data": {
      "text/plain": [
       "(-0.010152123643685966, 5.231031199596498e-05)"
      ]
     },
     "execution_count": 58,
     "metadata": {},
     "output_type": "execute_result"
    }
   ],
   "source": [
    "from sklearn.preprocessing import MinMaxScaler\n",
    "\n",
    "sc= MinMaxScaler(feature_range=(0,1))\n",
    "input_data = sc.fit_transform(input_features[:,:])\n",
    "\n"
   ]
  },
  {
   "cell_type": "code",
   "execution_count": 53,
   "metadata": {},
   "outputs": [
    {
     "name": "stdout",
     "output_type": "stream",
     "text": [
      "(1412, 50, 2) (1412,)\n",
      "(365, 50, 2)\n"
     ]
    }
   ],
   "source": [
    "lookback= 50\n",
    "test_size=365\n",
    "X_tmp=[]\n",
    "y=[]\n",
    "\n",
    "for i in range(lookback, len(btc_data)):\n",
    "    X_tmp.append(input_data[i-lookback:i, :])\n",
    "    \n",
    "y = input_data[lookback:-test_size,1]\n",
    "\n",
    "X_tmp, y = np.array(X_tmp), np.array(y)\n",
    "X = X_tmp[:-test_size,:]\n",
    "X_test = X_tmp[-test_size:]\n",
    "\n",
    "X = X.reshape(X.shape[0],lookback, 2)\n",
    "X_test = X_test.reshape(X_test.shape[0],lookback, 2)\n",
    "print(X.shape, y.shape)\n",
    "print(X_test.shape)\n"
   ]
  },
  {
   "cell_type": "code",
   "execution_count": 8,
   "metadata": {},
   "outputs": [
    {
     "name": "stderr",
     "output_type": "stream",
     "text": [
      "Using TensorFlow backend.\n"
     ]
    }
   ],
   "source": [
    "from keras import Sequential\n",
    "from keras.layers import Dense, LSTM\n",
    "from keras.layers import Dropout"
   ]
  },
  {
   "cell_type": "code",
   "execution_count": 9,
   "metadata": {},
   "outputs": [
    {
     "name": "stdout",
     "output_type": "stream",
     "text": [
      "_________________________________________________________________\n",
      "Layer (type)                 Output Shape              Param #   \n",
      "=================================================================\n",
      "lstm_1 (LSTM)                (None, 50, 30)            3960      \n",
      "_________________________________________________________________\n",
      "lstm_2 (LSTM)                (None, 50, 30)            7320      \n",
      "_________________________________________________________________\n",
      "lstm_3 (LSTM)                (None, 30)                7320      \n",
      "_________________________________________________________________\n",
      "dense_1 (Dense)              (None, 1)                 31        \n",
      "=================================================================\n",
      "Total params: 18,631\n",
      "Trainable params: 18,631\n",
      "Non-trainable params: 0\n",
      "_________________________________________________________________\n"
     ]
    }
   ],
   "source": [
    "model = Sequential()\n",
    "model.add(LSTM(units=30, return_sequences= True, input_shape=(X.shape[1],2)))\n",
    "#model.add(Dropout(0.2))\n",
    "\n",
    "model.add(LSTM(units=30, return_sequences=True))\n",
    "#model.add(Dropout(0.2))\n",
    "\n",
    "model.add(LSTM(units=30))\n",
    "#model.add(Dropout(0.2))\n",
    "\n",
    "model.add(Dense(units=1))\n",
    "#model.add(Dropout(0.2))\n",
    "\n",
    "model.summary()"
   ]
  },
  {
   "cell_type": "code",
   "execution_count": 10,
   "metadata": {},
   "outputs": [],
   "source": [
    "model.compile(optimizer='adam', loss='mean_squared_error')"
   ]
  },
  {
   "cell_type": "code",
   "execution_count": 11,
   "metadata": {},
   "outputs": [
    {
     "name": "stdout",
     "output_type": "stream",
     "text": [
      "Epoch 1/100\n",
      "1412/1412 [==============================] - 5s 4ms/step - loss: 0.0072\n",
      "Epoch 2/100\n",
      "1412/1412 [==============================] - 3s 2ms/step - loss: 0.0014\n",
      "Epoch 3/100\n",
      "1412/1412 [==============================] - 3s 2ms/step - loss: 0.0013\n",
      "Epoch 4/100\n",
      "1412/1412 [==============================] - 3s 2ms/step - loss: 0.0011\n",
      "Epoch 5/100\n",
      "1412/1412 [==============================] - 4s 3ms/step - loss: 8.4627e-04\n",
      "Epoch 6/100\n",
      "1412/1412 [==============================] - 4s 3ms/step - loss: 8.0323e-04\n",
      "Epoch 7/100\n",
      "1412/1412 [==============================] - 4s 3ms/step - loss: 6.4020e-04\n",
      "Epoch 8/100\n",
      "1412/1412 [==============================] - 4s 3ms/step - loss: 6.0274e-04\n",
      "Epoch 9/100\n",
      "1412/1412 [==============================] - 5s 3ms/step - loss: 6.3959e-04\n",
      "Epoch 10/100\n",
      "1412/1412 [==============================] - 5s 3ms/step - loss: 6.4055e-04\n",
      "Epoch 11/100\n",
      "1412/1412 [==============================] - 4s 3ms/step - loss: 8.1849e-04\n",
      "Epoch 12/100\n",
      "1412/1412 [==============================] - 4s 3ms/step - loss: 5.8483e-04\n",
      "Epoch 13/100\n",
      "1412/1412 [==============================] - 5s 3ms/step - loss: 4.4718e-04\n",
      "Epoch 14/100\n",
      "1412/1412 [==============================] - 5s 3ms/step - loss: 4.8015e-04\n",
      "Epoch 15/100\n",
      "1412/1412 [==============================] - 4s 3ms/step - loss: 4.0103e-04\n",
      "Epoch 16/100\n",
      "1412/1412 [==============================] - 5s 3ms/step - loss: 3.4073e-04\n",
      "Epoch 17/100\n",
      "1412/1412 [==============================] - 5s 3ms/step - loss: 3.8501e-04\n",
      "Epoch 18/100\n",
      "1412/1412 [==============================] - 4s 3ms/step - loss: 3.4963e-04\n",
      "Epoch 19/100\n",
      "1412/1412 [==============================] - 4s 3ms/step - loss: 3.9016e-04\n",
      "Epoch 20/100\n",
      "1412/1412 [==============================] - 5s 3ms/step - loss: 3.0557e-04\n",
      "Epoch 21/100\n",
      "1412/1412 [==============================] - 5s 3ms/step - loss: 3.1843e-04\n",
      "Epoch 22/100\n",
      "1412/1412 [==============================] - 4s 3ms/step - loss: 3.1946e-04\n",
      "Epoch 23/100\n",
      "1412/1412 [==============================] - 4s 3ms/step - loss: 3.1400e-04\n",
      "Epoch 24/100\n",
      "1412/1412 [==============================] - 5s 3ms/step - loss: 3.8810e-04\n",
      "Epoch 25/100\n",
      "1412/1412 [==============================] - 5s 3ms/step - loss: 3.4618e-04\n",
      "Epoch 26/100\n",
      "1412/1412 [==============================] - 4s 3ms/step - loss: 3.7289e-04\n",
      "Epoch 27/100\n",
      "1412/1412 [==============================] - 5s 3ms/step - loss: 3.3714e-04\n",
      "Epoch 28/100\n",
      "1412/1412 [==============================] - 5s 3ms/step - loss: 2.9884e-04\n",
      "Epoch 29/100\n",
      "1412/1412 [==============================] - 4s 3ms/step - loss: 3.0045e-04\n",
      "Epoch 30/100\n",
      "1412/1412 [==============================] - 4s 3ms/step - loss: 3.5016e-04\n",
      "Epoch 31/100\n",
      "1412/1412 [==============================] - 5s 3ms/step - loss: 4.5541e-04\n",
      "Epoch 32/100\n",
      "1412/1412 [==============================] - 5s 3ms/step - loss: 3.2855e-04\n",
      "Epoch 33/100\n",
      "1412/1412 [==============================] - 4s 3ms/step - loss: 3.0701e-04\n",
      "Epoch 34/100\n",
      "1412/1412 [==============================] - 5s 3ms/step - loss: 3.3975e-04\n",
      "Epoch 35/100\n",
      "1412/1412 [==============================] - 5s 4ms/step - loss: 3.0026e-04\n",
      "Epoch 36/100\n",
      "1412/1412 [==============================] - 5s 3ms/step - loss: 3.0237e-04\n",
      "Epoch 37/100\n",
      "1412/1412 [==============================] - 5s 3ms/step - loss: 2.6091e-04\n",
      "Epoch 38/100\n",
      "1412/1412 [==============================] - 5s 4ms/step - loss: 2.9601e-04\n",
      "Epoch 39/100\n",
      "1412/1412 [==============================] - 5s 3ms/step - loss: 2.9285e-04\n",
      "Epoch 40/100\n",
      "1412/1412 [==============================] - 5s 3ms/step - loss: 2.7128e-04\n",
      "Epoch 41/100\n",
      "1412/1412 [==============================] - 5s 4ms/step - loss: 2.6105e-04\n",
      "Epoch 42/100\n",
      "1412/1412 [==============================] - 5s 3ms/step - loss: 2.6736e-04\n",
      "Epoch 43/100\n",
      "1412/1412 [==============================] - 4s 3ms/step - loss: 2.8627e-04\n",
      "Epoch 44/100\n",
      "1412/1412 [==============================] - 5s 3ms/step - loss: 2.9479e-04\n",
      "Epoch 45/100\n",
      "1412/1412 [==============================] - 6s 4ms/step - loss: 3.1317e-04\n",
      "Epoch 46/100\n",
      "1412/1412 [==============================] - 5s 3ms/step - loss: 2.4785e-04\n",
      "Epoch 47/100\n",
      "1412/1412 [==============================] - 7s 5ms/step - loss: 2.8169e-04\n",
      "Epoch 48/100\n",
      "1412/1412 [==============================] - 7s 5ms/step - loss: 2.6193e-04\n",
      "Epoch 49/100\n",
      "1412/1412 [==============================] - 6s 4ms/step - loss: 2.3294e-04\n",
      "Epoch 50/100\n",
      "1412/1412 [==============================] - 5s 4ms/step - loss: 4.5248e-04\n",
      "Epoch 51/100\n",
      "1412/1412 [==============================] - 5s 3ms/step - loss: 2.7344e-04\n",
      "Epoch 52/100\n",
      "1412/1412 [==============================] - 4s 3ms/step - loss: 2.3579e-04\n",
      "Epoch 53/100\n",
      "1412/1412 [==============================] - 5s 4ms/step - loss: 2.4228e-04\n",
      "Epoch 54/100\n",
      "1412/1412 [==============================] - 5s 4ms/step - loss: 2.4476e-04\n",
      "Epoch 55/100\n",
      "1412/1412 [==============================] - 6s 4ms/step - loss: 2.9805e-04\n",
      "Epoch 56/100\n",
      "1412/1412 [==============================] - 7s 5ms/step - loss: 2.5634e-04\n",
      "Epoch 57/100\n",
      "1412/1412 [==============================] - 5s 3ms/step - loss: 2.2048e-04\n",
      "Epoch 58/100\n",
      "1412/1412 [==============================] - 6s 4ms/step - loss: 2.4206e-04\n",
      "Epoch 59/100\n",
      "1412/1412 [==============================] - 5s 4ms/step - loss: 2.4188e-04\n",
      "Epoch 60/100\n",
      "1412/1412 [==============================] - 6s 5ms/step - loss: 2.4038e-04\n",
      "Epoch 61/100\n",
      "1412/1412 [==============================] - 6s 4ms/step - loss: 2.4678e-04\n",
      "Epoch 62/100\n",
      "1412/1412 [==============================] - 5s 4ms/step - loss: 2.1893e-04\n",
      "Epoch 63/100\n",
      "1412/1412 [==============================] - 5s 3ms/step - loss: 2.5095e-04\n",
      "Epoch 64/100\n",
      "1412/1412 [==============================] - 5s 3ms/step - loss: 1.9904e-04\n",
      "Epoch 65/100\n",
      "1412/1412 [==============================] - 5s 4ms/step - loss: 2.1335e-04\n",
      "Epoch 66/100\n",
      "1412/1412 [==============================] - 5s 3ms/step - loss: 2.0854e-04\n",
      "Epoch 67/100\n",
      "1412/1412 [==============================] - 4s 3ms/step - loss: 2.1869e-04\n",
      "Epoch 68/100\n",
      "1412/1412 [==============================] - 6s 4ms/step - loss: 2.4505e-04\n",
      "Epoch 69/100\n",
      "1412/1412 [==============================] - 5s 4ms/step - loss: 2.3973e-04\n",
      "Epoch 70/100\n",
      "1412/1412 [==============================] - 5s 3ms/step - loss: 2.0729e-04\n",
      "Epoch 71/100\n",
      "1412/1412 [==============================] - 5s 4ms/step - loss: 2.4124e-04\n",
      "Epoch 72/100\n",
      "1412/1412 [==============================] - 6s 5ms/step - loss: 2.3954e-04\n",
      "Epoch 73/100\n",
      "1412/1412 [==============================] - 6s 4ms/step - loss: 2.0852e-04\n",
      "Epoch 74/100\n",
      "1412/1412 [==============================] - 5s 4ms/step - loss: 6.4372e-04\n",
      "Epoch 75/100\n",
      "1412/1412 [==============================] - 5s 3ms/step - loss: 2.9740e-04\n",
      "Epoch 76/100\n",
      "1412/1412 [==============================] - 4s 3ms/step - loss: 2.7373e-04\n",
      "Epoch 77/100\n",
      "1412/1412 [==============================] - 7s 5ms/step - loss: 2.8827e-04\n",
      "Epoch 78/100\n",
      "1412/1412 [==============================] - 6s 4ms/step - loss: 2.6349e-04\n",
      "Epoch 79/100\n",
      "1412/1412 [==============================] - 8s 5ms/step - loss: 2.2050e-04\n",
      "Epoch 80/100\n",
      "1412/1412 [==============================] - 6s 4ms/step - loss: 2.9147e-04\n",
      "Epoch 81/100\n",
      "1412/1412 [==============================] - 5s 3ms/step - loss: 2.0120e-04\n",
      "Epoch 82/100\n",
      "1412/1412 [==============================] - 6s 4ms/step - loss: 2.0647e-04\n",
      "Epoch 83/100\n",
      "1412/1412 [==============================] - 6s 4ms/step - loss: 1.8609e-04\n",
      "Epoch 84/100\n",
      "1412/1412 [==============================] - 5s 4ms/step - loss: 1.9823e-04\n",
      "Epoch 85/100\n",
      "1412/1412 [==============================] - 8s 5ms/step - loss: 1.8399e-04\n",
      "Epoch 86/100\n",
      "1412/1412 [==============================] - 5s 3ms/step - loss: 1.6347e-04\n",
      "Epoch 87/100\n",
      "1412/1412 [==============================] - 7s 5ms/step - loss: 2.2108e-04\n",
      "Epoch 88/100\n",
      "1412/1412 [==============================] - 5s 4ms/step - loss: 1.7664e-04\n",
      "Epoch 89/100\n",
      "1412/1412 [==============================] - 4s 3ms/step - loss: 2.9063e-04\n",
      "Epoch 90/100\n",
      "1412/1412 [==============================] - 4s 3ms/step - loss: 2.0220e-04\n",
      "Epoch 91/100\n",
      "1412/1412 [==============================] - 6s 4ms/step - loss: 1.6557e-04\n",
      "Epoch 92/100\n",
      "1412/1412 [==============================] - 5s 4ms/step - loss: 1.5902e-04\n",
      "Epoch 93/100\n",
      "1412/1412 [==============================] - 5s 3ms/step - loss: 1.7192e-04\n",
      "Epoch 94/100\n",
      "1412/1412 [==============================] - 5s 4ms/step - loss: 1.7329e-04\n",
      "Epoch 95/100\n",
      "1412/1412 [==============================] - 5s 3ms/step - loss: 1.9455e-04\n",
      "Epoch 96/100\n",
      "1412/1412 [==============================] - 6s 4ms/step - loss: 1.8035e-04\n",
      "Epoch 97/100\n",
      "1412/1412 [==============================] - 6s 4ms/step - loss: 1.7306e-04\n",
      "Epoch 98/100\n",
      "1412/1412 [==============================] - 4s 3ms/step - loss: 1.4247e-04\n",
      "Epoch 99/100\n",
      "1412/1412 [==============================] - 4s 3ms/step - loss: 1.6340e-04\n",
      "Epoch 100/100\n",
      "1412/1412 [==============================] - 5s 4ms/step - loss: 1.5450e-04\n"
     ]
    },
    {
     "data": {
      "text/plain": [
       "<keras.callbacks.History at 0x24309593898>"
      ]
     },
     "execution_count": 11,
     "metadata": {},
     "output_type": "execute_result"
    }
   ],
   "source": [
    "model.fit(X, y, epochs=100, batch_size=32)"
   ]
  },
  {
   "cell_type": "code",
   "execution_count": 136,
   "metadata": {},
   "outputs": [],
   "source": [
    "predicted_values = model.predict(X_test)"
   ]
  },
  {
   "cell_type": "code",
   "execution_count": 154,
   "metadata": {},
   "outputs": [
    {
     "name": "stdout",
     "output_type": "stream",
     "text": [
      "(1827,)\n"
     ]
    },
    {
     "ename": "ValueError",
     "evalue": "x and y must have same first dimension, but have shapes (365,) and (1827,)",
     "output_type": "error",
     "traceback": [
      "\u001b[1;31m---------------------------------------------------------------------------\u001b[0m",
      "\u001b[1;31mValueError\u001b[0m                                Traceback (most recent call last)",
      "\u001b[1;32m<ipython-input-154-22a6e7ce9eae>\u001b[0m in \u001b[0;36m<module>\u001b[1;34m\u001b[0m\n\u001b[0;32m     14\u001b[0m \u001b[0mfig\u001b[0m\u001b[1;33m,\u001b[0m \u001b[0max\u001b[0m \u001b[1;33m=\u001b[0m \u001b[0mplt\u001b[0m\u001b[1;33m.\u001b[0m\u001b[0msubplots\u001b[0m\u001b[1;33m(\u001b[0m\u001b[0mfigsize\u001b[0m\u001b[1;33m=\u001b[0m\u001b[1;33m(\u001b[0m\u001b[1;36m8\u001b[0m\u001b[1;33m,\u001b[0m \u001b[1;36m6\u001b[0m\u001b[1;33m)\u001b[0m\u001b[1;33m)\u001b[0m\u001b[1;33m\u001b[0m\u001b[1;33m\u001b[0m\u001b[0m\n\u001b[0;32m     15\u001b[0m \u001b[0mplt\u001b[0m\u001b[1;33m.\u001b[0m\u001b[0mplot\u001b[0m\u001b[1;33m(\u001b[0m\u001b[0mplot_dates\u001b[0m\u001b[1;33m,\u001b[0m \u001b[0mpredicted_price\u001b[0m\u001b[1;33m,\u001b[0m \u001b[0mcolor\u001b[0m \u001b[1;33m=\u001b[0m \u001b[1;34m'red'\u001b[0m\u001b[1;33m,\u001b[0m \u001b[0mlabel\u001b[0m \u001b[1;33m=\u001b[0m \u001b[1;34m'Predicted'\u001b[0m\u001b[1;33m)\u001b[0m\u001b[1;33m\u001b[0m\u001b[1;33m\u001b[0m\u001b[0m\n\u001b[1;32m---> 16\u001b[1;33m \u001b[0mplt\u001b[0m\u001b[1;33m.\u001b[0m\u001b[0mplot\u001b[0m\u001b[1;33m(\u001b[0m\u001b[0mplot_dates\u001b[0m\u001b[1;33m,\u001b[0m \u001b[0mtrue_price\u001b[0m\u001b[1;33m,\u001b[0m \u001b[0mcolor\u001b[0m \u001b[1;33m=\u001b[0m \u001b[1;34m'green'\u001b[0m\u001b[1;33m,\u001b[0m \u001b[0mlabel\u001b[0m \u001b[1;33m=\u001b[0m \u001b[1;34m'true'\u001b[0m\u001b[1;33m)\u001b[0m\u001b[1;33m\u001b[0m\u001b[1;33m\u001b[0m\u001b[0m\n\u001b[0m\u001b[0;32m     17\u001b[0m \u001b[0mplt\u001b[0m\u001b[1;33m.\u001b[0m\u001b[0mtitle\u001b[0m\u001b[1;33m(\u001b[0m\u001b[1;34m\"BTC Average price\"\u001b[0m\u001b[1;33m)\u001b[0m\u001b[1;33m\u001b[0m\u001b[1;33m\u001b[0m\u001b[0m\n\u001b[0;32m     18\u001b[0m \u001b[0mplt\u001b[0m\u001b[1;33m.\u001b[0m\u001b[0mylabel\u001b[0m\u001b[1;33m(\u001b[0m\u001b[1;34m\"Average Price ($)\"\u001b[0m\u001b[1;33m)\u001b[0m\u001b[1;33m\u001b[0m\u001b[1;33m\u001b[0m\u001b[0m\n",
      "\u001b[1;32m~\\Anaconda3\\envs\\MLcourse\\lib\\site-packages\\matplotlib\\pyplot.py\u001b[0m in \u001b[0;36mplot\u001b[1;34m(scalex, scaley, data, *args, **kwargs)\u001b[0m\n\u001b[0;32m   2811\u001b[0m     return gca().plot(\n\u001b[0;32m   2812\u001b[0m         *args, scalex=scalex, scaley=scaley, **({\"data\": data} if data\n\u001b[1;32m-> 2813\u001b[1;33m         is not None else {}), **kwargs)\n\u001b[0m\u001b[0;32m   2814\u001b[0m \u001b[1;33m\u001b[0m\u001b[0m\n\u001b[0;32m   2815\u001b[0m \u001b[1;33m\u001b[0m\u001b[0m\n",
      "\u001b[1;32m~\\Anaconda3\\envs\\MLcourse\\lib\\site-packages\\matplotlib\\__init__.py\u001b[0m in \u001b[0;36minner\u001b[1;34m(ax, data, *args, **kwargs)\u001b[0m\n\u001b[0;32m   1803\u001b[0m                         \u001b[1;34m\"the Matplotlib list!)\"\u001b[0m \u001b[1;33m%\u001b[0m \u001b[1;33m(\u001b[0m\u001b[0mlabel_namer\u001b[0m\u001b[1;33m,\u001b[0m \u001b[0mfunc\u001b[0m\u001b[1;33m.\u001b[0m\u001b[0m__name__\u001b[0m\u001b[1;33m)\u001b[0m\u001b[1;33m,\u001b[0m\u001b[1;33m\u001b[0m\u001b[1;33m\u001b[0m\u001b[0m\n\u001b[0;32m   1804\u001b[0m                         RuntimeWarning, stacklevel=2)\n\u001b[1;32m-> 1805\u001b[1;33m             \u001b[1;32mreturn\u001b[0m \u001b[0mfunc\u001b[0m\u001b[1;33m(\u001b[0m\u001b[0max\u001b[0m\u001b[1;33m,\u001b[0m \u001b[1;33m*\u001b[0m\u001b[0margs\u001b[0m\u001b[1;33m,\u001b[0m \u001b[1;33m**\u001b[0m\u001b[0mkwargs\u001b[0m\u001b[1;33m)\u001b[0m\u001b[1;33m\u001b[0m\u001b[1;33m\u001b[0m\u001b[0m\n\u001b[0m\u001b[0;32m   1806\u001b[0m \u001b[1;33m\u001b[0m\u001b[0m\n\u001b[0;32m   1807\u001b[0m         inner.__doc__ = _add_data_doc(inner.__doc__,\n",
      "\u001b[1;32m~\\Anaconda3\\envs\\MLcourse\\lib\\site-packages\\matplotlib\\axes\\_axes.py\u001b[0m in \u001b[0;36mplot\u001b[1;34m(self, scalex, scaley, *args, **kwargs)\u001b[0m\n\u001b[0;32m   1601\u001b[0m         \u001b[0mkwargs\u001b[0m \u001b[1;33m=\u001b[0m \u001b[0mcbook\u001b[0m\u001b[1;33m.\u001b[0m\u001b[0mnormalize_kwargs\u001b[0m\u001b[1;33m(\u001b[0m\u001b[0mkwargs\u001b[0m\u001b[1;33m,\u001b[0m \u001b[0mmlines\u001b[0m\u001b[1;33m.\u001b[0m\u001b[0mLine2D\u001b[0m\u001b[1;33m.\u001b[0m\u001b[0m_alias_map\u001b[0m\u001b[1;33m)\u001b[0m\u001b[1;33m\u001b[0m\u001b[1;33m\u001b[0m\u001b[0m\n\u001b[0;32m   1602\u001b[0m \u001b[1;33m\u001b[0m\u001b[0m\n\u001b[1;32m-> 1603\u001b[1;33m         \u001b[1;32mfor\u001b[0m \u001b[0mline\u001b[0m \u001b[1;32min\u001b[0m \u001b[0mself\u001b[0m\u001b[1;33m.\u001b[0m\u001b[0m_get_lines\u001b[0m\u001b[1;33m(\u001b[0m\u001b[1;33m*\u001b[0m\u001b[0margs\u001b[0m\u001b[1;33m,\u001b[0m \u001b[1;33m**\u001b[0m\u001b[0mkwargs\u001b[0m\u001b[1;33m)\u001b[0m\u001b[1;33m:\u001b[0m\u001b[1;33m\u001b[0m\u001b[1;33m\u001b[0m\u001b[0m\n\u001b[0m\u001b[0;32m   1604\u001b[0m             \u001b[0mself\u001b[0m\u001b[1;33m.\u001b[0m\u001b[0madd_line\u001b[0m\u001b[1;33m(\u001b[0m\u001b[0mline\u001b[0m\u001b[1;33m)\u001b[0m\u001b[1;33m\u001b[0m\u001b[1;33m\u001b[0m\u001b[0m\n\u001b[0;32m   1605\u001b[0m             \u001b[0mlines\u001b[0m\u001b[1;33m.\u001b[0m\u001b[0mappend\u001b[0m\u001b[1;33m(\u001b[0m\u001b[0mline\u001b[0m\u001b[1;33m)\u001b[0m\u001b[1;33m\u001b[0m\u001b[1;33m\u001b[0m\u001b[0m\n",
      "\u001b[1;32m~\\Anaconda3\\envs\\MLcourse\\lib\\site-packages\\matplotlib\\axes\\_base.py\u001b[0m in \u001b[0;36m_grab_next_args\u001b[1;34m(self, *args, **kwargs)\u001b[0m\n\u001b[0;32m    391\u001b[0m                 \u001b[0mthis\u001b[0m \u001b[1;33m+=\u001b[0m \u001b[0margs\u001b[0m\u001b[1;33m[\u001b[0m\u001b[1;36m0\u001b[0m\u001b[1;33m]\u001b[0m\u001b[1;33m,\u001b[0m\u001b[1;33m\u001b[0m\u001b[1;33m\u001b[0m\u001b[0m\n\u001b[0;32m    392\u001b[0m                 \u001b[0margs\u001b[0m \u001b[1;33m=\u001b[0m \u001b[0margs\u001b[0m\u001b[1;33m[\u001b[0m\u001b[1;36m1\u001b[0m\u001b[1;33m:\u001b[0m\u001b[1;33m]\u001b[0m\u001b[1;33m\u001b[0m\u001b[1;33m\u001b[0m\u001b[0m\n\u001b[1;32m--> 393\u001b[1;33m             \u001b[1;32myield\u001b[0m \u001b[1;32mfrom\u001b[0m \u001b[0mself\u001b[0m\u001b[1;33m.\u001b[0m\u001b[0m_plot_args\u001b[0m\u001b[1;33m(\u001b[0m\u001b[0mthis\u001b[0m\u001b[1;33m,\u001b[0m \u001b[0mkwargs\u001b[0m\u001b[1;33m)\u001b[0m\u001b[1;33m\u001b[0m\u001b[1;33m\u001b[0m\u001b[0m\n\u001b[0m\u001b[0;32m    394\u001b[0m \u001b[1;33m\u001b[0m\u001b[0m\n\u001b[0;32m    395\u001b[0m \u001b[1;33m\u001b[0m\u001b[0m\n",
      "\u001b[1;32m~\\Anaconda3\\envs\\MLcourse\\lib\\site-packages\\matplotlib\\axes\\_base.py\u001b[0m in \u001b[0;36m_plot_args\u001b[1;34m(self, tup, kwargs)\u001b[0m\n\u001b[0;32m    368\u001b[0m             \u001b[0mx\u001b[0m\u001b[1;33m,\u001b[0m \u001b[0my\u001b[0m \u001b[1;33m=\u001b[0m \u001b[0mindex_of\u001b[0m\u001b[1;33m(\u001b[0m\u001b[0mtup\u001b[0m\u001b[1;33m[\u001b[0m\u001b[1;33m-\u001b[0m\u001b[1;36m1\u001b[0m\u001b[1;33m]\u001b[0m\u001b[1;33m)\u001b[0m\u001b[1;33m\u001b[0m\u001b[1;33m\u001b[0m\u001b[0m\n\u001b[0;32m    369\u001b[0m \u001b[1;33m\u001b[0m\u001b[0m\n\u001b[1;32m--> 370\u001b[1;33m         \u001b[0mx\u001b[0m\u001b[1;33m,\u001b[0m \u001b[0my\u001b[0m \u001b[1;33m=\u001b[0m \u001b[0mself\u001b[0m\u001b[1;33m.\u001b[0m\u001b[0m_xy_from_xy\u001b[0m\u001b[1;33m(\u001b[0m\u001b[0mx\u001b[0m\u001b[1;33m,\u001b[0m \u001b[0my\u001b[0m\u001b[1;33m)\u001b[0m\u001b[1;33m\u001b[0m\u001b[1;33m\u001b[0m\u001b[0m\n\u001b[0m\u001b[0;32m    371\u001b[0m \u001b[1;33m\u001b[0m\u001b[0m\n\u001b[0;32m    372\u001b[0m         \u001b[1;32mif\u001b[0m \u001b[0mself\u001b[0m\u001b[1;33m.\u001b[0m\u001b[0mcommand\u001b[0m \u001b[1;33m==\u001b[0m \u001b[1;34m'plot'\u001b[0m\u001b[1;33m:\u001b[0m\u001b[1;33m\u001b[0m\u001b[1;33m\u001b[0m\u001b[0m\n",
      "\u001b[1;32m~\\Anaconda3\\envs\\MLcourse\\lib\\site-packages\\matplotlib\\axes\\_base.py\u001b[0m in \u001b[0;36m_xy_from_xy\u001b[1;34m(self, x, y)\u001b[0m\n\u001b[0;32m    229\u001b[0m         \u001b[1;32mif\u001b[0m \u001b[0mx\u001b[0m\u001b[1;33m.\u001b[0m\u001b[0mshape\u001b[0m\u001b[1;33m[\u001b[0m\u001b[1;36m0\u001b[0m\u001b[1;33m]\u001b[0m \u001b[1;33m!=\u001b[0m \u001b[0my\u001b[0m\u001b[1;33m.\u001b[0m\u001b[0mshape\u001b[0m\u001b[1;33m[\u001b[0m\u001b[1;36m0\u001b[0m\u001b[1;33m]\u001b[0m\u001b[1;33m:\u001b[0m\u001b[1;33m\u001b[0m\u001b[1;33m\u001b[0m\u001b[0m\n\u001b[0;32m    230\u001b[0m             raise ValueError(\"x and y must have same first dimension, but \"\n\u001b[1;32m--> 231\u001b[1;33m                              \"have shapes {} and {}\".format(x.shape, y.shape))\n\u001b[0m\u001b[0;32m    232\u001b[0m         \u001b[1;32mif\u001b[0m \u001b[0mx\u001b[0m\u001b[1;33m.\u001b[0m\u001b[0mndim\u001b[0m \u001b[1;33m>\u001b[0m \u001b[1;36m2\u001b[0m \u001b[1;32mor\u001b[0m \u001b[0my\u001b[0m\u001b[1;33m.\u001b[0m\u001b[0mndim\u001b[0m \u001b[1;33m>\u001b[0m \u001b[1;36m2\u001b[0m\u001b[1;33m:\u001b[0m\u001b[1;33m\u001b[0m\u001b[1;33m\u001b[0m\u001b[0m\n\u001b[0;32m    233\u001b[0m             raise ValueError(\"x and y can be no greater than 2-D, but have \"\n",
      "\u001b[1;31mValueError\u001b[0m: x and y must have same first dimension, but have shapes (365,) and (1827,)"
     ]
    },
    {
     "data": {
      "image/png": "[encoded data removed]",
      "text/plain": [
       "<Figure size 576x432 with 1 Axes>"
      ]
     },
     "metadata": {
      "needs_background": "light"
     },
     "output_type": "display_data"
    }
   ],
   "source": [
    "#true_price = btc_data.iloc[-test_size:,6].values\n",
    "true_price = btc_data[.Average].values\n",
    "print(true_price.shape)\n",
    "\n",
    "true_price = np.reshape(true_price, (test_size,1))\n",
    "plot_dates = btc_data.index.values\n",
    "plot_dates = plot_dates[-test_size:]\n",
    "\n",
    "sc_price = MinMaxScaler()\n",
    "sc_price.min_, sc_price.scale_ = sc.min_[1], sc.scale_[1]\n",
    "predicted_price = sc_price.inverse_transform(predicted_values)\n",
    "\n",
    "\n",
    "fig, ax = plt.subplots(figsize=(8, 6))\n",
    "plt.plot(plot_dates, predicted_price, color = 'red', label = 'Predicted')\n",
    "plt.plot(plot_dates, true_price, color = 'green', label = 'true')\n",
    "plt.title(\"BTC Average price\")\n",
    "plt.ylabel(\"Average Price ($)\")\n",
    "plt.legend()\n",
    "\n",
    "error = np.mean(np.abs(predicted_price - true_price) / true_price)\n",
    "print(error*100)\n"
   ]
  },
  {
   "cell_type": "code",
   "execution_count": 124,
   "metadata": {},
   "outputs": [
    {
     "data": {
      "text/plain": [
       "(365, 1)"
      ]
     },
     "execution_count": 124,
     "metadata": {},
     "output_type": "execute_result"
    }
   ],
   "source": [
    "\n",
    "difference = np.array(predicted[180:])-np.array(true[180:])\n",
    "true.shape\n",
    "\n",
    "\n",
    "\n",
    "#plt.plot(difference, color = 'red', label = 'Predicted')"
   ]
  }
 ],
 "metadata": {
  "kernelspec": {
   "display_name": "Python 3",
   "language": "python",
   "name": "python3"
  },
  "language_info": {
   "codemirror_mode": {
    "name": "ipython",
    "version": 3
   },
   "file_extension": ".py",
   "mimetype": "text/x-python",
   "name": "python",
   "nbconvert_exporter": "python",
   "pygments_lexer": "ipython3",
   "version": "3.6.7"
  }
 },
 "nbformat": 4,
 "nbformat_minor": 2
}
