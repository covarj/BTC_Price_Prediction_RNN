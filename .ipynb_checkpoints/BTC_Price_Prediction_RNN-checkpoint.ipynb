{
 "cells": [
  {
   "cell_type": "code",
   "execution_count": 16,
   "metadata": {},
   "outputs": [],
   "source": [
    "import numpy as np\n",
    "import pandas as pd\n",
    "import matplotlib.pyplot as plt\n",
    "from cmc import coinmarketcap\n",
    "from datetime import datetime, timedelta\n",
    "\n",
    "%matplotlib inline"
   ]
  },
  {
   "cell_type": "code",
   "execution_count": 18,
   "metadata": {},
   "outputs": [
    {
     "name": "stderr",
     "output_type": "stream",
     "text": [
      "100%|██████████| 1/1 [00:00<00:00,  1.75it/s]\n"
     ]
    },
    {
     "data": {
      "text/html": [
       "<div>\n",
       "<style scoped>\n",
       "    .dataframe tbody tr th:only-of-type {\n",
       "        vertical-align: middle;\n",
       "    }\n",
       "\n",
       "    .dataframe tbody tr th {\n",
       "        vertical-align: top;\n",
       "    }\n",
       "\n",
       "    .dataframe thead tr th {\n",
       "        text-align: left;\n",
       "    }\n",
       "\n",
       "    .dataframe thead tr:last-of-type th {\n",
       "        text-align: right;\n",
       "    }\n",
       "</style>\n",
       "<table border=\"1\" class=\"dataframe\">\n",
       "  <thead>\n",
       "    <tr>\n",
       "      <th></th>\n",
       "      <th colspan=\"7\" halign=\"left\">bitcoin</th>\n",
       "    </tr>\n",
       "    <tr>\n",
       "      <th></th>\n",
       "      <th>Open</th>\n",
       "      <th>High</th>\n",
       "      <th>Low</th>\n",
       "      <th>Close</th>\n",
       "      <th>Volume</th>\n",
       "      <th>Market Cap</th>\n",
       "      <th>Average</th>\n",
       "    </tr>\n",
       "    <tr>\n",
       "      <th>Date</th>\n",
       "      <th></th>\n",
       "      <th></th>\n",
       "      <th></th>\n",
       "      <th></th>\n",
       "      <th></th>\n",
       "      <th></th>\n",
       "      <th></th>\n",
       "    </tr>\n",
       "  </thead>\n",
       "  <tbody>\n",
       "    <tr>\n",
       "      <th>2014-03-08</th>\n",
       "      <td>629.66</td>\n",
       "      <td>635.14</td>\n",
       "      <td>604.46</td>\n",
       "      <td>617.45</td>\n",
       "      <td>18654200.0</td>\n",
       "      <td>7.712151e+09</td>\n",
       "      <td>619.80</td>\n",
       "    </tr>\n",
       "    <tr>\n",
       "      <th>2014-03-09</th>\n",
       "      <td>616.31</td>\n",
       "      <td>643.95</td>\n",
       "      <td>612.35</td>\n",
       "      <td>636.96</td>\n",
       "      <td>15396500.0</td>\n",
       "      <td>7.958688e+09</td>\n",
       "      <td>628.15</td>\n",
       "    </tr>\n",
       "    <tr>\n",
       "      <th>2014-03-10</th>\n",
       "      <td>636.33</td>\n",
       "      <td>644.76</td>\n",
       "      <td>615.02</td>\n",
       "      <td>627.79</td>\n",
       "      <td>20639800.0</td>\n",
       "      <td>7.846433e+09</td>\n",
       "      <td>629.89</td>\n",
       "    </tr>\n",
       "    <tr>\n",
       "      <th>2014-03-11</th>\n",
       "      <td>627.95</td>\n",
       "      <td>638.42</td>\n",
       "      <td>618.84</td>\n",
       "      <td>634.11</td>\n",
       "      <td>11732500.0</td>\n",
       "      <td>7.928103e+09</td>\n",
       "      <td>628.63</td>\n",
       "    </tr>\n",
       "    <tr>\n",
       "      <th>2014-03-12</th>\n",
       "      <td>631.91</td>\n",
       "      <td>648.03</td>\n",
       "      <td>629.51</td>\n",
       "      <td>632.10</td>\n",
       "      <td>18621200.0</td>\n",
       "      <td>7.905833e+09</td>\n",
       "      <td>638.77</td>\n",
       "    </tr>\n",
       "  </tbody>\n",
       "</table>\n",
       "</div>"
      ],
      "text/plain": [
       "           bitcoin                                                          \n",
       "              Open    High     Low   Close      Volume    Market Cap Average\n",
       "Date                                                                        \n",
       "2014-03-08  629.66  635.14  604.46  617.45  18654200.0  7.712151e+09  619.80\n",
       "2014-03-09  616.31  643.95  612.35  636.96  15396500.0  7.958688e+09  628.15\n",
       "2014-03-10  636.33  644.76  615.02  627.79  20639800.0  7.846433e+09  629.89\n",
       "2014-03-11  627.95  638.42  618.84  634.11  11732500.0  7.928103e+09  628.63\n",
       "2014-03-12  631.91  648.03  629.51  632.10  18621200.0  7.905833e+09  638.77"
      ]
     },
     "execution_count": 18,
     "metadata": {},
     "output_type": "execute_result"
    }
   ],
   "source": [
    "#btc_data = pd.read_csv(\"BTC-USD.csv\",index_col=\"Date\",parse_dates=True)\n",
    "\n",
    "crypto = 'bitcoin'\n",
    "end_date = datetime.now()\n",
    "start_date = end_date - timedelta(days=365*5)\n",
    "\n",
    "btc_data = coinmarketcap.getDataFor(crypto, start_date, end_date)\n",
    "btc_data.head()"
   ]
  },
  {
   "cell_type": "code",
   "execution_count": 3,
   "metadata": {},
   "outputs": [
    {
     "name": "stdout",
     "output_type": "stream",
     "text": [
      "<class 'pandas.core.frame.DataFrame'>\n",
      "DatetimeIndex: 1826 entries, 2014-03-07 to 2019-03-06\n",
      "Data columns (total 7 columns):\n",
      "(bitcoin, Open)          1826 non-null float64\n",
      "(bitcoin, High)          1826 non-null float64\n",
      "(bitcoin, Low)           1826 non-null float64\n",
      "(bitcoin, Close)         1826 non-null float64\n",
      "(bitcoin, Volume)        1826 non-null float64\n",
      "(bitcoin, Market Cap)    1826 non-null float64\n",
      "(bitcoin, Average)       1826 non-null float64\n",
      "dtypes: float64(7)\n",
      "memory usage: 114.1 KB\n"
     ]
    }
   ],
   "source": [
    "btc_data.info()"
   ]
  },
  {
   "cell_type": "code",
   "execution_count": 4,
   "metadata": {},
   "outputs": [
    {
     "data": {
      "text/plain": [
       "Text(0, 0.5, 'Volume (BTC)')"
      ]
     },
     "execution_count": 4,
     "metadata": {},
     "output_type": "execute_result"
    },
    {
     "data": {
      "image/png": "[encoded data removed]",
      "text/plain": [
       "<Figure size 1008x432 with 2 Axes>"
      ]
     },
     "metadata": {
      "needs_background": "light"
     },
     "output_type": "display_data"
    }
   ],
   "source": [
    "input_features = btc_data.iloc[:,[4,6]].values\n",
    "\n",
    "plt.figure(figsize=(14,6))\n",
    "top = plt.subplot2grid((4,4), (0, 0), rowspan=3, colspan=4)\n",
    "bottom = plt.subplot2grid((4,4), (3,0), rowspan=1, colspan=4)\n",
    "top.plot(btc_data.index, input_features[:,1]) \n",
    "bottom.bar(btc_data.index, input_features[:,0]) \n",
    " \n",
    "# set the labels\n",
    "top.axes.get_xaxis().set_visible(False)\n",
    "top.set_title('BTC')\n",
    "top.set_ylabel('Average Price ($)')\n",
    "bottom.set_ylabel('Volume (BTC)')\n"
   ]
  },
  {
   "cell_type": "code",
   "execution_count": 5,
   "metadata": {},
   "outputs": [],
   "source": [
    "from sklearn.preprocessing import MinMaxScaler\n",
    "\n",
    "sc= MinMaxScaler(feature_range=(0,1))\n",
    "input_data = sc.fit_transform(input_features[:,:])\n",
    "\n"
   ]
  },
  {
   "cell_type": "code",
   "execution_count": 6,
   "metadata": {},
   "outputs": [
    {
     "name": "stdout",
     "output_type": "stream",
     "text": [
      "(1411, 50, 2) (1411,)\n",
      "(365, 50, 2)\n"
     ]
    }
   ],
   "source": [
    "lookback= 50\n",
    "test_size=365\n",
    "X_tmp=[]\n",
    "y=[]\n",
    "\n",
    "for i in range(lookback, len(btc_data)):\n",
    "    X_tmp.append(input_data[i-lookback:i, :])\n",
    "    \n",
    "y = input_data[lookback:-test_size,1]\n",
    "\n",
    "X_tmp, y = np.array(X_tmp), np.array(y)\n",
    "X = X_tmp[:-test_size,:]\n",
    "X_test = X_tmp[-test_size:]\n",
    "\n",
    "X = X.reshape(X.shape[0],lookback, 2)\n",
    "X_test = X_test.reshape(X_test.shape[0],lookback, 2)\n",
    "print(X.shape, y.shape)\n",
    "print(X_test.shape)\n"
   ]
  },
  {
   "cell_type": "code",
   "execution_count": 7,
   "metadata": {},
   "outputs": [
    {
     "name": "stderr",
     "output_type": "stream",
     "text": [
      "Using TensorFlow backend.\n"
     ]
    }
   ],
   "source": [
    "from keras import Sequential\n",
    "from keras.layers import Dense, LSTM\n",
    "from keras.layers import Dropout"
   ]
  },
  {
   "cell_type": "code",
   "execution_count": 8,
   "metadata": {},
   "outputs": [
    {
     "name": "stdout",
     "output_type": "stream",
     "text": [
      "_________________________________________________________________\n",
      "Layer (type)                 Output Shape              Param #   \n",
      "=================================================================\n",
      "lstm_1 (LSTM)                (None, 50, 30)            3960      \n",
      "_________________________________________________________________\n",
      "dropout_1 (Dropout)          (None, 50, 30)            0         \n",
      "_________________________________________________________________\n",
      "lstm_2 (LSTM)                (None, 50, 30)            7320      \n",
      "_________________________________________________________________\n",
      "dropout_2 (Dropout)          (None, 50, 30)            0         \n",
      "_________________________________________________________________\n",
      "lstm_3 (LSTM)                (None, 30)                7320      \n",
      "_________________________________________________________________\n",
      "dropout_3 (Dropout)          (None, 30)                0         \n",
      "_________________________________________________________________\n",
      "dense_1 (Dense)              (None, 1)                 31        \n",
      "_________________________________________________________________\n",
      "dropout_4 (Dropout)          (None, 1)                 0         \n",
      "=================================================================\n",
      "Total params: 18,631\n",
      "Trainable params: 18,631\n",
      "Non-trainable params: 0\n",
      "_________________________________________________________________\n"
     ]
    }
   ],
   "source": [
    "model = Sequential()\n",
    "model.add(LSTM(units=30, return_sequences= True, input_shape=(X.shape[1],2)))\n",
    "#model.add(Dropout(0.2))\n",
    "\n",
    "model.add(LSTM(units=30, return_sequences=True))\n",
    "#model.add(Dropout(0.2))\n",
    "\n",
    "model.add(LSTM(units=30))\n",
    "#model.add(Dropout(0.2))\n",
    "\n",
    "model.add(Dense(units=1))\n",
    "#model.add(Dropout(0.2))\n",
    "\n",
    "model.summary()"
   ]
  },
  {
   "cell_type": "code",
   "execution_count": 9,
   "metadata": {},
   "outputs": [],
   "source": [
    "model.compile(optimizer='adam', loss='mean_squared_error')"
   ]
  },
  {
   "cell_type": "code",
   "execution_count": 10,
   "metadata": {},
   "outputs": [
    {
     "name": "stdout",
     "output_type": "stream",
     "text": [
      "Epoch 1/100\n",
      "1411/1411 [==============================] - 7s 5ms/step - loss: 0.0180\n",
      "Epoch 2/100\n",
      "1411/1411 [==============================] - 6s 4ms/step - loss: 0.0096\n",
      "Epoch 3/100\n",
      "1411/1411 [==============================] - 7s 5ms/step - loss: 0.0115\n",
      "Epoch 4/100\n",
      "1411/1411 [==============================] - 8s 6ms/step - loss: 0.0130\n",
      "Epoch 5/100\n",
      "1411/1411 [==============================] - 8s 6ms/step - loss: 0.0100\n",
      "Epoch 6/100\n",
      "1411/1411 [==============================] - 8s 5ms/step - loss: 0.0112\n",
      "Epoch 7/100\n",
      "1411/1411 [==============================] - 9s 6ms/step - loss: 0.0083\n",
      "Epoch 8/100\n",
      "1411/1411 [==============================] - 9s 7ms/step - loss: 0.0099\n",
      "Epoch 9/100\n",
      "1411/1411 [==============================] - 8s 5ms/step - loss: 0.0083\n",
      "Epoch 10/100\n",
      "1411/1411 [==============================] - 7s 5ms/step - loss: 0.0090\n",
      "Epoch 11/100\n",
      "1411/1411 [==============================] - 8s 6ms/step - loss: 0.0114\n",
      "Epoch 12/100\n",
      "1411/1411 [==============================] - 8s 6ms/step - loss: 0.0062\n",
      "Epoch 13/100\n",
      "1411/1411 [==============================] - 7s 5ms/step - loss: 0.0091\n",
      "Epoch 14/100\n",
      "1411/1411 [==============================] - 7s 5ms/step - loss: 0.0115\n",
      "Epoch 15/100\n",
      "1411/1411 [==============================] - 6s 4ms/step - loss: 0.0073\n",
      "Epoch 16/100\n",
      "1411/1411 [==============================] - 6s 4ms/step - loss: 0.0089\n",
      "Epoch 17/100\n",
      "1411/1411 [==============================] - 7s 5ms/step - loss: 0.0097\n",
      "Epoch 18/100\n",
      "1411/1411 [==============================] - 5s 4ms/step - loss: 0.0095\n",
      "Epoch 19/100\n",
      "1411/1411 [==============================] - 6s 4ms/step - loss: 0.0082\n",
      "Epoch 20/100\n",
      "1411/1411 [==============================] - 6s 4ms/step - loss: 0.0097\n",
      "Epoch 21/100\n",
      "1411/1411 [==============================] - 5s 4ms/step - loss: 0.0075\n",
      "Epoch 22/100\n",
      "1411/1411 [==============================] - 7s 5ms/step - loss: 0.0080\n",
      "Epoch 23/100\n",
      "1411/1411 [==============================] - 8s 5ms/step - loss: 0.0063\n",
      "Epoch 24/100\n",
      "1411/1411 [==============================] - 7s 5ms/step - loss: 0.0078\n",
      "Epoch 25/100\n",
      "1411/1411 [==============================] - 6s 4ms/step - loss: 0.0068\n",
      "Epoch 26/100\n",
      "1411/1411 [==============================] - 5s 4ms/step - loss: 0.0101\n",
      "Epoch 27/100\n",
      "1411/1411 [==============================] - 7s 5ms/step - loss: 0.0100\n",
      "Epoch 28/100\n",
      "1411/1411 [==============================] - 6s 4ms/step - loss: 0.0064\n",
      "Epoch 29/100\n",
      "1411/1411 [==============================] - 5s 4ms/step - loss: 0.0083\n",
      "Epoch 30/100\n",
      "1411/1411 [==============================] - 6s 5ms/step - loss: 0.0098\n",
      "Epoch 31/100\n",
      "1411/1411 [==============================] - 5s 4ms/step - loss: 0.0070\n",
      "Epoch 32/100\n",
      "1411/1411 [==============================] - 5s 4ms/step - loss: 0.0081\n",
      "Epoch 33/100\n",
      "1411/1411 [==============================] - 6s 4ms/step - loss: 0.0074\n",
      "Epoch 34/100\n",
      "1411/1411 [==============================] - 5s 4ms/step - loss: 0.0095\n",
      "Epoch 35/100\n",
      "1411/1411 [==============================] - 6s 4ms/step - loss: 0.0091\n",
      "Epoch 36/100\n",
      "1411/1411 [==============================] - 6s 4ms/step - loss: 0.0066\n",
      "Epoch 37/100\n",
      "1411/1411 [==============================] - 5s 4ms/step - loss: 0.0120\n",
      "Epoch 38/100\n",
      "1411/1411 [==============================] - 6s 4ms/step - loss: 0.0090\n",
      "Epoch 39/100\n",
      "1411/1411 [==============================] - 6s 4ms/step - loss: 0.0086\n",
      "Epoch 40/100\n",
      "1411/1411 [==============================] - 5s 4ms/step - loss: 0.0097\n",
      "Epoch 41/100\n",
      "1411/1411 [==============================] - 6s 4ms/step - loss: 0.0102\n",
      "Epoch 42/100\n",
      "1411/1411 [==============================] - 6s 4ms/step - loss: 0.0073\n",
      "Epoch 43/100\n",
      "1411/1411 [==============================] - 5s 3ms/step - loss: 0.0064\n",
      "Epoch 44/100\n",
      "1411/1411 [==============================] - 5s 3ms/step - loss: 0.0089\n",
      "Epoch 45/100\n",
      "1411/1411 [==============================] - 5s 4ms/step - loss: 0.0083\n",
      "Epoch 46/100\n",
      "1411/1411 [==============================] - 5s 3ms/step - loss: 0.0071\n",
      "Epoch 47/100\n",
      "1411/1411 [==============================] - 5s 3ms/step - loss: 0.0073\n",
      "Epoch 48/100\n",
      "1411/1411 [==============================] - 5s 3ms/step - loss: 0.0076\n",
      "Epoch 49/100\n",
      "1411/1411 [==============================] - 5s 3ms/step - loss: 0.0068\n",
      "Epoch 50/100\n",
      "1411/1411 [==============================] - 5s 3ms/step - loss: 0.0062\n",
      "Epoch 51/100\n",
      "1411/1411 [==============================] - 5s 4ms/step - loss: 0.0068\n",
      "Epoch 52/100\n",
      "1411/1411 [==============================] - 5s 3ms/step - loss: 0.0098\n",
      "Epoch 53/100\n",
      "1411/1411 [==============================] - 5s 3ms/step - loss: 0.0082\n",
      "Epoch 54/100\n",
      "1411/1411 [==============================] - 5s 4ms/step - loss: 0.0103\n",
      "Epoch 55/100\n",
      "1411/1411 [==============================] - 5s 3ms/step - loss: 0.0081\n",
      "Epoch 56/100\n",
      "1411/1411 [==============================] - 4s 3ms/step - loss: 0.0085\n",
      "Epoch 57/100\n",
      "1411/1411 [==============================] - 5s 3ms/step - loss: 0.0079\n",
      "Epoch 58/100\n",
      "1411/1411 [==============================] - 5s 3ms/step - loss: 0.0085\n",
      "Epoch 59/100\n",
      "1411/1411 [==============================] - 5s 3ms/step - loss: 0.0090\n",
      "Epoch 60/100\n",
      "1411/1411 [==============================] - 5s 3ms/step - loss: 0.0107\n",
      "Epoch 61/100\n",
      "1411/1411 [==============================] - 5s 3ms/step - loss: 0.0096\n",
      "Epoch 62/100\n",
      "1411/1411 [==============================] - 5s 3ms/step - loss: 0.0080\n",
      "Epoch 63/100\n",
      "1411/1411 [==============================] - 4s 3ms/step - loss: 0.0079\n",
      "Epoch 64/100\n",
      "1411/1411 [==============================] - 5s 3ms/step - loss: 0.0074\n",
      "Epoch 65/100\n",
      "1411/1411 [==============================] - 5s 3ms/step - loss: 0.0102\n",
      "Epoch 66/100\n",
      "1411/1411 [==============================] - 5s 3ms/step - loss: 0.0084\n",
      "Epoch 67/100\n",
      "1411/1411 [==============================] - 5s 3ms/step - loss: 0.0072\n",
      "Epoch 68/100\n",
      "1411/1411 [==============================] - 5s 3ms/step - loss: 0.0062\n",
      "Epoch 69/100\n",
      "1411/1411 [==============================] - 5s 3ms/step - loss: 0.0098\n",
      "Epoch 70/100\n",
      "1411/1411 [==============================] - 4s 3ms/step - loss: 0.0072\n",
      "Epoch 71/100\n",
      "1411/1411 [==============================] - 5s 4ms/step - loss: 0.0094\n",
      "Epoch 72/100\n",
      "1411/1411 [==============================] - 5s 3ms/step - loss: 0.0093\n",
      "Epoch 73/100\n",
      "1411/1411 [==============================] - 4s 3ms/step - loss: 0.0089\n",
      "Epoch 74/100\n",
      "1411/1411 [==============================] - 5s 3ms/step - loss: 0.0077\n",
      "Epoch 75/100\n",
      "1411/1411 [==============================] - 5s 3ms/step - loss: 0.0092\n",
      "Epoch 76/100\n",
      "1411/1411 [==============================] - 5s 3ms/step - loss: 0.0102\n",
      "Epoch 77/100\n",
      "1411/1411 [==============================] - 5s 3ms/step - loss: 0.0074\n",
      "Epoch 78/100\n",
      "1411/1411 [==============================] - 5s 4ms/step - loss: 0.0073\n",
      "Epoch 79/100\n",
      "1411/1411 [==============================] - 5s 3ms/step - loss: 0.0101\n",
      "Epoch 80/100\n",
      "1411/1411 [==============================] - 4s 3ms/step - loss: 0.0096\n",
      "Epoch 81/100\n",
      "1411/1411 [==============================] - 5s 4ms/step - loss: 0.0069\n",
      "Epoch 82/100\n",
      "1411/1411 [==============================] - 6s 4ms/step - loss: 0.0082\n",
      "Epoch 83/100\n",
      "1411/1411 [==============================] - 5s 3ms/step - loss: 0.0078\n",
      "Epoch 84/100\n",
      "1411/1411 [==============================] - 5s 4ms/step - loss: 0.0103\n",
      "Epoch 85/100\n",
      "1411/1411 [==============================] - 6s 5ms/step - loss: 0.0071\n",
      "Epoch 86/100\n",
      "1411/1411 [==============================] - 5s 4ms/step - loss: 0.0074\n",
      "Epoch 87/100\n",
      "1411/1411 [==============================] - 5s 3ms/step - loss: 0.0066\n",
      "Epoch 88/100\n",
      "1411/1411 [==============================] - 6s 4ms/step - loss: 0.0082\n",
      "Epoch 89/100\n",
      "1411/1411 [==============================] - 5s 3ms/step - loss: 0.0115\n",
      "Epoch 90/100\n",
      "1411/1411 [==============================] - 5s 4ms/step - loss: 0.0084\n",
      "Epoch 91/100\n",
      "1411/1411 [==============================] - 5s 3ms/step - loss: 0.0063\n",
      "Epoch 92/100\n",
      "1411/1411 [==============================] - 5s 3ms/step - loss: 0.0079\n",
      "Epoch 93/100\n",
      "1411/1411 [==============================] - 5s 3ms/step - loss: 0.0100\n",
      "Epoch 94/100\n",
      "1411/1411 [==============================] - 5s 4ms/step - loss: 0.0074\n",
      "Epoch 95/100\n",
      "1411/1411 [==============================] - 5s 3ms/step - loss: 0.0072\n",
      "Epoch 96/100\n",
      "1411/1411 [==============================] - 5s 4ms/step - loss: 0.0058\n",
      "Epoch 97/100\n",
      "1411/1411 [==============================] - 6s 4ms/step - loss: 0.0087\n",
      "Epoch 98/100\n",
      "1411/1411 [==============================] - 5s 4ms/step - loss: 0.0103\n",
      "Epoch 99/100\n",
      "1411/1411 [==============================] - 5s 4ms/step - loss: 0.0067\n",
      "Epoch 100/100\n",
      "1411/1411 [==============================] - 6s 4ms/step - loss: 0.0086\n"
     ]
    },
    {
     "data": {
      "text/plain": [
       "<keras.callbacks.History at 0x1c2ce54b390>"
      ]
     },
     "execution_count": 10,
     "metadata": {},
     "output_type": "execute_result"
    }
   ],
   "source": [
    "model.fit(X, y, epochs=100, batch_size=32)"
   ]
  },
  {
   "cell_type": "code",
   "execution_count": 11,
   "metadata": {},
   "outputs": [],
   "source": [
    "predicted_values = model.predict(X_test)"
   ]
  },
  {
   "cell_type": "code",
   "execution_count": 12,
   "metadata": {},
   "outputs": [
    {
     "name": "stdout",
     "output_type": "stream",
     "text": [
      "17.22748347955423\n"
     ]
    },
    {
     "data": {
      "image/png": "[encoded data removed]",
      "text/plain": [
       "<Figure size 576x432 with 1 Axes>"
      ]
     },
     "metadata": {
      "needs_background": "light"
     },
     "output_type": "display_data"
    }
   ],
   "source": [
    "true_price = btc_data.iloc[-test_size:,6].values\n",
    "true_price = np.reshape(true_price, (test_size,1))\n",
    "plot_dates = btc_data.index.values\n",
    "plot_dates = plot_dates[-test_size:]\n",
    "\n",
    "sc_price = MinMaxScaler()\n",
    "sc_price.min_, sc_price.scale_ = sc.min_[1], sc.scale_[1]\n",
    "predicted_price = sc_price.inverse_transform(predicted_values)\n",
    "\n",
    "\n",
    "fig, ax = plt.subplots(figsize=(8, 6))\n",
    "plt.plot(plot_dates, predicted_price, color = 'red', label = 'Predicted')\n",
    "plt.plot(plot_dates, true_price, color = 'green', label = 'true')\n",
    "plt.title(\"BTC Average price\")\n",
    "plt.ylabel(\"Average Price ($)\")\n",
    "plt.legend()\n",
    "\n",
    "error = np.mean(np.abs(predicted_price - true_price) / true_price)\n",
    "print(error*100)\n"
   ]
  }
 ],
 "metadata": {
  "kernelspec": {
   "display_name": "Python 3",
   "language": "python",
   "name": "python3"
  },
  "language_info": {
   "codemirror_mode": {
    "name": "ipython",
    "version": 3
   },
   "file_extension": ".py",
   "mimetype": "text/x-python",
   "name": "python",
   "nbconvert_exporter": "python",
   "pygments_lexer": "ipython3",
   "version": "3.6.7"
  }
 },
 "nbformat": 4,
 "nbformat_minor": 2
}
